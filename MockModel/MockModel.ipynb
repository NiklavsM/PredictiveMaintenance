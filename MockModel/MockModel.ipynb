{
 "cells": [
  {
   "cell_type": "code",
   "execution_count": 4,
   "metadata": {},
   "outputs": [],
   "source": [
    "import tensorflow as tf\n",
    "from tensorflow import keras\n",
    "from keras import layers\n",
    "from keras.models import Model\n",
    "#print(tf.keras.__version__)\n",
    "#print(tf.__version__)\n",
    "\n",
    "import numpy as np\n",
    "import pandas as pd\n",
    "import matplotlib.pyplot as plt\n",
    "import seaborn as sns\n",
    "import math as mt\n",
    "import random as rng\n",
    "\n",
    "from sklearn import preprocessing"
   ]
  },
  {
   "cell_type": "code",
   "execution_count": null,
   "metadata": {},
   "outputs": [],
   "source": [
    "dir = \"D:/WindData/POD_Request_3541/Project/Copies/processed/trimmed/final\"\n",
    "\n",
    "os.chdir(dir)\n"
   ]
  },
  {
   "cell_type": "code",
   "execution_count": 2,
   "metadata": {},
   "outputs": [
    {
     "name": "stdout",
     "output_type": "stream",
     "text": [
      "Model: \"model_1\"\n",
      "__________________________________________________________________________________________________\n",
      "Layer (type)                    Output Shape         Param #     Connected to                     \n",
      "==================================================================================================\n",
      "input_1 (InputLayer)            (None, 60, 573)      0                                            \n",
      "__________________________________________________________________________________________________\n",
      "conv1d_1 (Conv1D)               (None, 58, 150)      258000      input_1[0][0]                    \n",
      "__________________________________________________________________________________________________\n",
      "conv1d_2 (Conv1D)               (None, 56, 300)      135300      conv1d_1[0][0]                   \n",
      "__________________________________________________________________________________________________\n",
      "max_pooling1d_1 (MaxPooling1D)  (None, 9, 300)       0           conv1d_2[0][0]                   \n",
      "__________________________________________________________________________________________________\n",
      "lstm_1 (LSTM)                   (None, 60, 150)      434400      input_1[0][0]                    \n",
      "__________________________________________________________________________________________________\n",
      "flatten_1 (Flatten)             (None, 2700)         0           max_pooling1d_1[0][0]            \n",
      "__________________________________________________________________________________________________\n",
      "lstm_2 (LSTM)                   (None, 300)          541200      lstm_1[0][0]                     \n",
      "__________________________________________________________________________________________________\n",
      "concatenate_1 (Concatenate)     (None, 3000)         0           flatten_1[0][0]                  \n",
      "                                                                 lstm_2[0][0]                     \n",
      "__________________________________________________________________________________________________\n",
      "dense_1 (Dense)                 (None, 100)          300100      concatenate_1[0][0]              \n",
      "__________________________________________________________________________________________________\n",
      "dense_2 (Dense)                 (None, 1)            101         dense_1[0][0]                    \n",
      "==================================================================================================\n",
      "Total params: 1,669,101\n",
      "Trainable params: 1,669,101\n",
      "Non-trainable params: 0\n",
      "__________________________________________________________________________________________________\n",
      "None\n"
     ]
    }
   ],
   "source": [
    "visible = layers.Input(shape=(60, 573,))\n",
    "\n",
    "cnn1 = layers.Conv1D(150, 3, activation='relu')(visible)\n",
    "cnn2 = layers.Conv1D(300, 3, activation='relu')(cnn1)\n",
    "pool = layers.MaxPooling1D(6)(cnn2)\n",
    "drop = layers.Dropout(0.25)(pool)\n",
    "flat = layers.Flatten()(pool)\n",
    "\n",
    "lstm1 = layers.LSTM(150, return_sequences=True, dropout=0.1, recurrent_dropout=0.1)(visible)\n",
    "lstm2 = layers.LSTM(300, dropout=0.1, recurrent_dropout=0.1)(lstm1)\n",
    "\n",
    "combo = layers.merge.concatenate([flat,lstm2])\n",
    "dense = layers.Dense(100, activation='relu')(combo)\n",
    "out = layers.Dense(1)(dense)\n",
    "\n",
    "model = Model(inputs=visible, outputs=out)\n",
    "\n",
    "\n",
    "\n",
    "\n",
    "print(model.summary())"
   ]
  },
  {
   "cell_type": "code",
   "execution_count": 3,
   "metadata": {},
   "outputs": [],
   "source": [
    "model.compile(optimizer=tf.keras.optimizers.RMSprop(0.001),\n",
    "              loss='mse', \n",
    "              metrics=['mae', 'mse'])"
   ]
  },
  {
   "cell_type": "code",
   "execution_count": null,
   "metadata": {},
   "outputs": [],
   "source": [
    "batchCount = 150\n",
    "\n",
    "availableBatch = range(batchCount)\n",
    "\n",
    "labelFrame = pd.read_csv(\"labels.csv\")\n",
    "labelList = labelFrame.values.tolist()\n",
    "\n",
    "\n",
    "def generator():\n",
    "    if len(availableBatch)==0:\n",
    "        availableBatch = range(batchCount)\n",
    "    nextIndex = rng.randint(0, len(availableBatch))\n",
    "    nextIndex = availableBatch.pop(nextIndex)\n",
    "    targets = labelList[nextIndex]\n",
    "    data = np.load(\"data/\" + str(selected) + \".npy\")\n",
    "    return (data, targets)"
   ]
  },
  {
   "cell_type": "code",
   "execution_count": null,
   "metadata": {},
   "outputs": [],
   "source": [
    "model.fit_generator(generator(), steps_per_epoch=150, epochs=5)"
   ]
  }
 ],
 "metadata": {
  "kernelspec": {
   "display_name": "Python 3",
   "language": "python",
   "name": "python3"
  },
  "language_info": {
   "codemirror_mode": {
    "name": "ipython",
    "version": 3
   },
   "file_extension": ".py",
   "mimetype": "text/x-python",
   "name": "python",
   "nbconvert_exporter": "python",
   "pygments_lexer": "ipython3",
   "version": "3.7.5"
  }
 },
 "nbformat": 4,
 "nbformat_minor": 4
}
