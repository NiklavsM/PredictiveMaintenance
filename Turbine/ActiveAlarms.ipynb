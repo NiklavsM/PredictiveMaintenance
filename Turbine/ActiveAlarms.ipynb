{
 "cells": [
  {
   "cell_type": "code",
   "execution_count": 1,
   "metadata": {},
   "outputs": [
    {
     "name": "stdout",
     "output_type": "stream",
     "text": [
      "166\n",
      "Done\n",
      "          Index                                        Description  Count\n",
      "4          9.01                   Start Up Synching Speed Time Out    176\n",
      "9         12.01                             Scada Shutdown Request    177\n",
      "0         97.01                    Yaw Error > Max Start Yaw Error   1252\n",
      "16       100.01                                       Cable Unwind    398\n",
      "3        286.01    (DEMOTED) Yaw Hydraulic Pressure Diff Too Large    572\n",
      "17       291.01                      Yaw Brake 1 Failed To Release    181\n",
      "67       293.01    (DEMOTED) Yaw Brake 1 Under Pressure Full Brake    139\n",
      "73       294.01  (DEMOTED) Yaw Brake 1 Over Pressure Reduced Brake    205\n",
      "65       298.01    (DEMOTED) Yaw Brake 2 Under Pressure Full Brake    429\n",
      "68       299.01  (DEMOTED) Yaw Brake 2 Over Pressure Reduced Brake    270\n",
      "13       435.01                           Pitch System Fatal Error    945\n",
      "2        543.01              Gearbox Cooling Line Pressure Too Low   6315\n",
      "100      570.01  (DEMOTED) Gearbox Filter Manifold Pressure 2 S...   2892\n",
      "7       1617.01                                  Noise Curtailment   2822\n",
      "49    999022.00                     Partial Performance - Degraded   8277\n",
      "105   999022.10         LDT - Partial Performance - Degraded - OPS   1440\n",
      "11   1100005.00                Requested Shutdown - Shadow Flicker    131\n",
      "\n",
      "          Index                                        Description  Count\n",
      "7       1617.01                                  Noise Curtailment   2822\n",
      "42    999021.00                      Partial Performance - Derated      3\n",
      "49    999022.00                     Partial Performance - Degraded   8277\n",
      "105   999022.10         LDT - Partial Performance - Degraded - OPS   1440\n",
      "102   999050.10  LDT - Requested Shutdown - Owner - OPS - Shado...      7\n",
      "27    999051.00                    Requested Shutdown - Owner Stop     48\n",
      "32    999052.00           Requested Shutdown - LDT - Operator Stop      6\n",
      "31    999070.00                              Scheduled Maintenance     51\n",
      "114   999070.10         LDT - Scheduled Maintenance - Owner - CR&D      3\n",
      "103   999070.20             LDT - Scheduled Maintenance - Operator      2\n",
      "104   999080.10            LDT - Planned Corrective - Owner - CR&D     35\n",
      "106   999080.20                LDT - Planned Corrective - Operator      6\n",
      "14    999081.00  Operational Control - Planned Corrective - Ret...     45\n",
      "74    999082.00                       Planned Corrective - Upgrade      2\n",
      "38    999083.00   Operational Control - Planned Corrective - Other     33\n",
      "91    999084.00                          Wind Farm Control Testing      0\n",
      "21    999091.00     Operational Control - Forced Outage - Response     19\n",
      "30    999092.00                         Forced Outage - Diagnostic     10\n",
      "99    999093.00                           Forced Outage - Logistic      0\n",
      "57    999094.00                     Forced Outage - Failure repair      2\n",
      "10    999105.00    Operational Control - Suspended - Forced outage     17\n",
      "12   1100002.00        Requested Shutdown - Turbulence Curtailment     52\n",
      "11   1100005.00                Requested Shutdown - Shadow Flicker    131\n"
     ]
    }
   ],
   "source": [
    "import pandas as pd\n",
    "import numpy as np\n",
    "\n",
    "csv = pd.read_csv(\"D:/WindData/POD_Request_3541/POD_Request_3541/Alarm-log/AlarmSorted.csv\",\n",
    "                  skiprows=[i for i in range(1, 6175)])\n",
    "scada = csv.loc[csv['EventCode'] == 12]\n",
    "\n",
    "print(len(scada))\n",
    "\n",
    "scada = csv.loc[csv['EventIndex']==12.01]\n",
    "\n",
    "\n",
    "array = csv[['EventIndex', 'EventDescription', 'Duration']].to_numpy()\n",
    "\n",
    "################################\n",
    "\n",
    "alarms = []\n",
    "\n",
    "i = 0\n",
    "for row in array:\n",
    "    index, descr, dur = row[0], row[1], row[2]\n",
    "    found = False\n",
    "    for alarm in alarms:\n",
    "        if alarm[0] == index:\n",
    "            found = True\n",
    "            alarm[2] = alarm[2] + 1\n",
    "            break\n",
    "    if not found:\n",
    "        alarms.append([index, descr, 0])\n",
    "\n",
    "print(\"Done\")\n",
    "\n",
    "\n",
    "alarms = pd.DataFrame(alarms, columns=['Index','Description','Count'])\n",
    "alarms = alarms.sort_values(by=['Index', 'Count'])\n",
    "\n",
    "print(alarms[alarms['Count']>=100].to_string())\n",
    "print(\"\")\n",
    "print(alarms[alarms['Index']>1600].to_string())\n",
    "# print(len(alarms))\n"
   ]
  },
  {
   "cell_type": "code",
   "execution_count": null,
   "metadata": {},
   "outputs": [],
   "source": []
  },
  {
   "cell_type": "code",
   "execution_count": null,
   "metadata": {},
   "outputs": [],
   "source": []
  }
 ],
 "metadata": {
  "kernelspec": {
   "display_name": "Python 3",
   "language": "python",
   "name": "python3"
  },
  "language_info": {
   "codemirror_mode": {
    "name": "ipython",
    "version": 3
   },
   "file_extension": ".py",
   "mimetype": "text/x-python",
   "name": "python",
   "nbconvert_exporter": "python",
   "pygments_lexer": "ipython3",
   "version": "3.7.5"
  }
 },
 "nbformat": 4,
 "nbformat_minor": 4
}
