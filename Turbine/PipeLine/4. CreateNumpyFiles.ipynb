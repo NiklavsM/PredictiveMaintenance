{
 "cells": [
  {
   "cell_type": "code",
   "execution_count": 1,
   "metadata": {},
   "outputs": [],
   "source": [
    "import pandas as pd\n",
    "import numpy as np\n",
    "import glob,os\n",
    "\n",
    "\n",
    "dir = \"D:\\\\WindData\\\\POD_Request_3541\\\\Project\\\\processed\\\\trimmed\"\n",
    "\n",
    "os.chdir(dir)\n",
    "\n",
    "if not os.path.exists('final'):\n",
    "    os.makedirs('final')\n",
    "if not os.path.exists('final/data'):\n",
    "        os.makedirs('final/data')\n"
   ]
  },
  {
   "cell_type": "code",
   "execution_count": 7,
   "metadata": {},
   "outputs": [],
   "source": [
    "import pickle"
   ]
  },
  {
   "cell_type": "code",
   "execution_count": 2,
   "metadata": {},
   "outputs": [
    {
     "name": "stdout",
     "output_type": "stream",
     "text": [
      "['labels\\\\0.csv', 'labels\\\\1.csv', 'labels\\\\10.csv', 'labels\\\\11.csv', 'labels\\\\12.csv', 'labels\\\\13.csv', 'labels\\\\14.csv', 'labels\\\\15.csv', 'labels\\\\16.csv', 'labels\\\\2.csv', 'labels\\\\3.csv', 'labels\\\\4.csv', 'labels\\\\5.csv', 'labels\\\\6.csv', 'labels\\\\7.csv', 'labels\\\\8.csv', 'labels\\\\9.csv']\n"
     ]
    }
   ],
   "source": [
    "labels = glob.glob(\"labels/*.csv\")\n",
    "dataSets = glob.glob(\"data/*.csv\")\n",
    "print(labels)\n",
    "\n"
   ]
  },
  {
   "cell_type": "code",
   "execution_count": 3,
   "metadata": {},
   "outputs": [],
   "source": [
    "def pullBatch(numBatches, batchSize, depth, labelFile, dataFile):\n",
    "    dataList = []\n",
    "    avgList = []\n",
    "    skip = numBatches * batchSize * depth\n",
    "    for i in range(batchSize):\n",
    "        frameData = pd.read_csv(dataFile, header=None, skiprows=skip, nrows=depth)\n",
    "        if len(frameData) < depth:\n",
    "            return [], 0\n",
    "        else:\n",
    "            avgData = pd.read_csv(labelFile, header=None, skiprows=skip, nrows=depth)\n",
    "            avg = avgData[0].mean()\n",
    "            avgList.append(avg)\n",
    "            dataList.append(frameData.values.tolist())\n",
    "            skip += depth\n",
    "    return dataList, avgList\n",
    "    "
   ]
  },
  {
   "cell_type": "code",
   "execution_count": null,
   "metadata": {},
   "outputs": [],
   "source": []
  },
  {
   "cell_type": "code",
   "execution_count": 4,
   "metadata": {},
   "outputs": [
    {
     "name": "stdout",
     "output_type": "stream",
     "text": [
      "Round done\n",
      "Round done\n",
      "Round done\n",
      "Round done\n",
      "Round done\n",
      "Round done\n",
      "Round done\n",
      "Round done\n",
      "Round done\n",
      "Round done\n",
      "Round done\n",
      "Round done\n",
      "Round done\n",
      "Round done\n",
      "Round done\n",
      "Round done\n",
      "Round done\n"
     ]
    }
   ],
   "source": [
    "batchSize = 32\n",
    "depth = 60\n",
    "labelList = []\n",
    "batchCount = 0\n",
    "\n",
    "for label, data in zip(labels, dataSets):\n",
    "    numBatches = 0\n",
    "    batch, avgList = pullBatch(numBatches, batchSize, depth, label, data)\n",
    "    while not len(batch)==0:\n",
    "        npArray = np.array(batch)\n",
    "        labelList.append(avgList)\n",
    "        np.save(\"final/data/\" + str(batchCount) + \".npy\", npArray)\n",
    "        numBatches+=1\n",
    "        batchCount+=1\n",
    "        batch, avgList = pullBatch(numBatches, batchSize, depth, label, data)\n",
    "    print(\"Round done\")"
   ]
  },
  {
   "cell_type": "code",
   "execution_count": null,
   "metadata": {},
   "outputs": [],
   "source": [
    "#frame = pd.DataFrame(labelList, )"
   ]
  },
  {
   "cell_type": "code",
   "execution_count": 5,
   "metadata": {},
   "outputs": [
    {
     "name": "stdout",
     "output_type": "stream",
     "text": [
      "[604770.5, 604710.5, 604650.5, 604590.5, 604530.5, 604470.5, 604410.5, 604350.5, 604290.5, 604230.5, 604170.5, 604110.5, 604050.5, 603990.5, 603930.5, 603870.5, 603810.5, 603750.5, 603690.5, 603630.5, 603570.5, 603510.5, 603450.5, 603390.5, 603330.5, 603270.5, 603210.5, 603150.5, 603090.5, 603030.5, 602970.5, 602910.5]\n"
     ]
    }
   ],
   "source": [
    "print(labelList[0])"
   ]
  },
  {
   "cell_type": "code",
   "execution_count": 6,
   "metadata": {},
   "outputs": [
    {
     "name": "stdout",
     "output_type": "stream",
     "text": [
      "1716\n"
     ]
    }
   ],
   "source": [
    "print(len(labelList))"
   ]
  },
  {
   "cell_type": "code",
   "execution_count": 9,
   "metadata": {},
   "outputs": [],
   "source": [
    "pickle.dump(labelList, open(\"./final/labels.p\", \"wb\"))"
   ]
  },
  {
   "cell_type": "code",
   "execution_count": null,
   "metadata": {},
   "outputs": [],
   "source": []
  }
 ],
 "metadata": {
  "kernelspec": {
   "display_name": "Python 3",
   "language": "python",
   "name": "python3"
  },
  "language_info": {
   "codemirror_mode": {
    "name": "ipython",
    "version": 3
   },
   "file_extension": ".py",
   "mimetype": "text/x-python",
   "name": "python",
   "nbconvert_exporter": "python",
   "pygments_lexer": "ipython3",
   "version": "3.7.5"
  }
 },
 "nbformat": 4,
 "nbformat_minor": 4
}
