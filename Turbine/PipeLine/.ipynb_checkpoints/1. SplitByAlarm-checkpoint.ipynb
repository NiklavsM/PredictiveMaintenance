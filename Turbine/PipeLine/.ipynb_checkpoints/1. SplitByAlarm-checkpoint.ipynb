{
 "cells": [
  {
   "cell_type": "code",
   "execution_count": 4,
   "metadata": {},
   "outputs": [],
   "source": [
    "import pandas as pd\n",
    "import numpy as np\n",
    "import glob,os\n",
    "\n",
    "\n",
    "dir = \"D:/WindData/POD_Request_3541/Project\"\n",
    "\n",
    "\n",
    "os.chdir(dir)\n",
    "if not os.path.exists('processed'):\n",
    "    os.makedirs('processed')\n",
    "\n",
    "\n",
    "\n",
    "names = glob.glob(\"Copies/*.csv\")\n",
    "#print(names)"
   ]
  },
  {
   "cell_type": "code",
   "execution_count": 5,
   "metadata": {},
   "outputs": [],
   "source": [
    "alarms = pd.read_csv(\"../Alarms.csv\")"
   ]
  },
  {
   "cell_type": "code",
   "execution_count": 6,
   "metadata": {},
   "outputs": [],
   "source": [
    "ons = alarms['On'].to_list()\n",
    "offs = alarms['Off'].to_list()"
   ]
  },
  {
   "cell_type": "code",
   "execution_count": 7,
   "metadata": {},
   "outputs": [],
   "source": [
    "#print(ons)\n",
    "#print(offs)"
   ]
  },
  {
   "cell_type": "code",
   "execution_count": 8,
   "metadata": {},
   "outputs": [],
   "source": [
    "name = \"./LDT-1Hz-01-January.csv\"\n",
    "file = open(name,'r')\n",
    "x = file.readline()\n",
    "#print(file.readline())\n",
    "#print(file.readline())"
   ]
  },
  {
   "cell_type": "code",
   "execution_count": 9,
   "metadata": {},
   "outputs": [],
   "source": [
    "def iterateLine(file, currentFile):\n",
    "    line = file.readline()\n",
    "    if(line==\"\"):\n",
    "        file.close()\n",
    "        currentFile+=1\n",
    "        file = open(names[currentFile], 'r')\n",
    "        file.readline()\n",
    "        line = file.readline()\n",
    "    return file, currentFile, line\n",
    "\n",
    "def deleteLine(file, currentFile):\n",
    "    line = file.readline()\n",
    "    if(line==\"\"):\n",
    "        file.close()\n",
    "        currentFile+=1\n",
    "        file = open(names[currentFile], 'r')\n",
    "        file.readline()\n",
    "        file.readline()\n",
    "    return file, currentFile\n",
    "\n",
    "def getExactTime(line):\n",
    "    exact = line.split(\",\")[0]\n",
    "    split = exact.split()\n",
    "    date, time = split[0], split[1]\n",
    "    dateSplit = date.split(\"-\")\n",
    "    dateFix = dateSplit[2] + \"/\" + dateSplit[1] + \"/\" + dateSplit[0]\n",
    "    return dateFix + \" \" + time\n",
    "\n",
    "\n",
    "\n",
    "def beforeAlarm(dataLine, alarmLine):\n",
    "    fixedDataLine = getExactTime(dataLine)\n",
    "    if alarmLine in fixedDataLine:\n",
    "        return False\n",
    "    else:\n",
    "        return True\n",
    "\n",
    "\n",
    "\n",
    "\n"
   ]
  },
  {
   "cell_type": "code",
   "execution_count": 10,
   "metadata": {},
   "outputs": [
    {
     "name": "stdout",
     "output_type": "stream",
     "text": [
      "True\n"
     ]
    }
   ],
   "source": [
    "alarmLine = \"18/02/2017 07:12\"\n",
    "line = \"2017-02-17 07:12:00.608\"\n",
    "print(beforeAlarm(line,alarmLine))"
   ]
  },
  {
   "cell_type": "code",
   "execution_count": 11,
   "metadata": {},
   "outputs": [],
   "source": [
    "#currentReadFile = 0\n",
    "#currentWriteFile = 0\n",
    "#readFile = open(names[currentReadFile], 'r')\n",
    "#readFile.readline()\n",
    "#for i in range(2628000*2):\n",
    "#    readFile, currentReadFile, line = iterateLine(readFile,currentReadFile)\n",
    "#    if i==0:\n",
    "#        print(line)\n",
    "\n",
    "\n"
   ]
  },
  {
   "cell_type": "code",
   "execution_count": 12,
   "metadata": {},
   "outputs": [
    {
     "name": "stdout",
     "output_type": "stream",
     "text": [
      "./processed/0.csv\n"
     ]
    }
   ],
   "source": [
    "currentReadFile = 0\n",
    "currentWriteFile = 0\n",
    "\n",
    "readFile = open(names[currentReadFile], 'r')\n",
    "\n",
    "\n",
    "writeDir = \"./processed/\"\n",
    "writePath = writeDir + str(currentWriteFile) + \".csv\"\n",
    "print(writePath)\n"
   ]
  },
  {
   "cell_type": "code",
   "execution_count": 13,
   "metadata": {},
   "outputs": [],
   "source": [
    "readFile.readline()\n",
    "dataLine = readFile.readline()\n"
   ]
  },
  {
   "cell_type": "code",
   "execution_count": 14,
   "metadata": {},
   "outputs": [
    {
     "name": "stdout",
     "output_type": "stream",
     "text": [
      "Finished Round\n",
      "Found All offlines\n",
      "Resetting\n",
      "Finished Round\n",
      "Found All offlines\n",
      "Resetting\n",
      "Finished Round\n",
      "Found All offlines\n",
      "Resetting\n",
      "Finished Round\n",
      "Found All offlines\n",
      "Resetting\n",
      "Finished Round\n",
      "Found All offlines\n",
      "Resetting\n",
      "Done\n"
     ]
    }
   ],
   "source": [
    "writeFile = open(writePath, 'w')\n",
    "#rounds = 0\n",
    "for (on, off) in zip(ons,offs):\n",
    "    lineCount = 0\n",
    "    while beforeAlarm(dataLine, on):\n",
    "        writeFile.write(dataLine)\n",
    "        readFile,currentReadFile,dataLine = iterateLine(readFile,currentReadFile)\n",
    "        lineCount+=1\n",
    "    print(\"Finished Round\")\n",
    "    while beforeAlarm(dataLine, off):\n",
    "        readFile,currentReadFile,dataLine = iterateLine(readFile,currentReadFile)\n",
    "    print(\"Found All offlines\")\n",
    "    while not beforeAlarm(dataLine, off):\n",
    "        readFile,currentReadFile,dataLine = iterateLine(readFile,currentReadFile)\n",
    "    print(\"Resetting\")\n",
    "    writeFile.close()\n",
    "    #if rounds==4:\n",
    "    #    break\n",
    "    #else:\n",
    "    #    rounds+=1\n",
    "    currentWriteFile+=1\n",
    "    writePath = writeDir + str(currentWriteFile) + \".csv\"\n",
    "    writeFile = open(writePath, 'w')\n",
    "\n",
    "print(\"Done\")"
   ]
  },
  {
   "cell_type": "code",
   "execution_count": 15,
   "metadata": {},
   "outputs": [
    {
     "name": "stdout",
     "output_type": "stream",
     "text": [
      "Done\n"
     ]
    }
   ],
   "source": [
    "print(\"Done\")"
   ]
  },
  {
   "cell_type": "code",
   "execution_count": null,
   "metadata": {},
   "outputs": [],
   "source": [
    "readPath = \"D:/WindData/POD_Request_3541/Project/Copies/processed/0.csv\"\n",
    "readFile = open(readPath,'r')\n",
    "print(readFile.readline())\n",
    "\n",
    "for i in range(2566303):\n",
    "    readFile.readline()\n",
    "print(\"After\")\n",
    "for i in range(4):\n",
    "    print(readFile.readline())\n",
    "readFile.close()"
   ]
  },
  {
   "cell_type": "code",
   "execution_count": 14,
   "metadata": {},
   "outputs": [],
   "source": []
  },
  {
   "cell_type": "code",
   "execution_count": null,
   "metadata": {},
   "outputs": [],
   "source": []
  }
 ],
 "metadata": {
  "kernelspec": {
   "display_name": "Python 3",
   "language": "python",
   "name": "python3"
  },
  "language_info": {
   "codemirror_mode": {
    "name": "ipython",
    "version": 3
   },
   "file_extension": ".py",
   "mimetype": "text/x-python",
   "name": "python",
   "nbconvert_exporter": "python",
   "pygments_lexer": "ipython3",
   "version": "3.7.5"
  }
 },
 "nbformat": 4,
 "nbformat_minor": 4
}
