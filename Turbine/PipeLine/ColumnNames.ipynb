{
 "cells": [
  {
   "cell_type": "code",
   "execution_count": 1,
   "metadata": {},
   "outputs": [],
   "source": [
    "import pandas as pd\n",
    "import numpy as np\n",
    "import glob,os\n",
    "import pickle\n",
    "\n",
    "\n",
    "\n",
    "path = \"D:\\\\WindData\\\\POD_Request_3541\\\\POD_Request_3541\\\\10-min-Tur\\\\10-min-Tur-Usl.csv\"\n",
    "pathB = \"D:\\\\WindData\\\\POD_Request_3541\\\\POD_Request_3541\\\\1Hz-Tur\\\\LDT-1Hz-Tur-example.csv\"\n",
    "\n",
    "\n",
    "csv = pd.read_csv(path)\n",
    "csvEx = pd.read_csv(pathB)"
   ]
  },
  {
   "cell_type": "code",
   "execution_count": 2,
   "metadata": {},
   "outputs": [],
   "source": [
    "columnList = csv.columns.tolist()\n",
    "columnListCompare = csvEx.columns.tolist()"
   ]
  },
  {
   "cell_type": "code",
   "execution_count": 3,
   "metadata": {},
   "outputs": [],
   "source": [
    "newList = []\n",
    "\n",
    "replaceList = [\"_EndVal\", \"_Min\", \"_Max\", \"_Mean\", \"_Stdev\", \"_CountFalse\", \"_CountTrue\"]\n",
    "\n",
    "\n",
    "\n",
    "for string in columnList:\n",
    "    for replace in replaceList:\n",
    "        string = string.replace(replace, \"\")\n",
    "    newList.append(string)\n",
    "    "
   ]
  },
  {
   "cell_type": "code",
   "execution_count": 4,
   "metadata": {},
   "outputs": [
    {
     "name": "stdout",
     "output_type": "stream",
     "text": [
      "['StartTime', 'rowCount', 'SecsOnlineLowSpeed', 'NumOfSpeedChanges', 'NumOfCableUnwinds', 'SecsAtRedOpSetpoint', 'SsYawCableTwistCcwLimit', 'SsYawCableTwistCwLimit', 'SwchGearOverPwr', 'SwchGearAddnlRelaySignal2', 'SwchGearAddnlRelaySignal1', 'MvtrCoolingLinePresState', 'UpsTwrBatteryFault', 'UpsTwrLowBattery', 'MvtrLeakageState2', 'MvtrFanMotorAlm2', 'MvtrFanMotorAlm1', 'PcsCoolingTwrFan2', 'YawMotor1TempState', 'YawBrakingResistorState2', 'YawBrakingResistorState1', 'RotorBrakeAppliedByArls', 'NacLightningProtState', 'HelicopterApprochingBeacon', 'HtngWindSensor3', 'HtngWindSensor2', 'HtngWindSensor1', 'GBoxExtnlHeater', 'GBoxExtnlHtngPumpPreheater', 'GBoxMainPumpPreheater4', 'GBoxMainPumpPreheater2', 'GBoxTankHeater1', 'RotorBrakePad3PreWorn', 'RotorBrakePad2Worn', 'RotorBrakePad2PreWorn', 'RotorBrakePad1Worn', 'RotorBrakePad1PreWorn', 'RotorLockApplyValve2', 'RotorLockApplyValve1', 'SubYaw1AlmWord1', 'SubPtchMinimumRateLimit', 'SubPtchMaximumRateLimit', 'SubPtchMinimumFinePtch', 'SubPtchPositiveFeatherAngle', 'SubPtchActuatorType', 'GenCoolingLinePresState', 'GBoxCoolingLinePresState', 'GBoxOilLinePresState', 'AbortWtcBoot', 'RotorBrakePad4Worn', 'RotorBrakePad4PreWorn', 'RotorBrakePad3Worn', 'HpuOilLevelTempState1', 'HpuOilLevelState2', 'HpuOilLevelState1', 'GenLeakDetector2', 'GenLeakDetector1', 'GenLubricationAlm', 'PtchLogQueueSize', 'TraceMessageQueueSize', 'GBoxExtnlHeaterPres2']\n",
      "61\n"
     ]
    }
   ],
   "source": [
    "newList = list(dict.fromkeys(newList))\n",
    "print(newList)\n",
    "print(len(newList))"
   ]
  },
  {
   "cell_type": "code",
   "execution_count": 5,
   "metadata": {},
   "outputs": [
    {
     "name": "stdout",
     "output_type": "stream",
     "text": [
      "StartTime\n",
      "rowCount\n"
     ]
    }
   ],
   "source": [
    "finalList = []\n",
    "\n",
    "for item in newList:\n",
    "    if item in columnListCompare:\n",
    "        finalList.append(item)\n",
    "    else:\n",
    "        print(item)"
   ]
  },
  {
   "cell_type": "code",
   "execution_count": 6,
   "metadata": {},
   "outputs": [],
   "source": [
    "#pickle.dump( scaler, open( \"../savedStates/scaler.p\", \"wb\" ) )\n",
    "\n",
    "pickle.dump(finalList, open(\"./columns/usl.p\", \"wb\"))"
   ]
  },
  {
   "cell_type": "code",
   "execution_count": null,
   "metadata": {},
   "outputs": [],
   "source": []
  }
 ],
 "metadata": {
  "kernelspec": {
   "display_name": "Python 3",
   "language": "python",
   "name": "python3"
  },
  "language_info": {
   "codemirror_mode": {
    "name": "ipython",
    "version": 3
   },
   "file_extension": ".py",
   "mimetype": "text/x-python",
   "name": "python",
   "nbconvert_exporter": "python",
   "pygments_lexer": "ipython3",
   "version": "3.7.5"
  }
 },
 "nbformat": 4,
 "nbformat_minor": 4
}
