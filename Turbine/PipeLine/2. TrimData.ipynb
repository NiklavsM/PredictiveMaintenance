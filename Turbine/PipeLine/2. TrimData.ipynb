{
 "cells": [
  {
   "cell_type": "code",
   "execution_count": 1,
   "metadata": {},
   "outputs": [
    {
     "name": "stdout",
     "output_type": "stream",
     "text": [
      "604800\n"
     ]
    }
   ],
   "source": [
    "import pandas as pd\n",
    "import numpy as np\n",
    "import glob,os\n",
    "\n",
    "\n",
    "dir = \"D:\\\\WindData\\\\POD_Request_3541\\\\Project\\\\processed\"\n",
    "\n",
    "os.chdir(dir)\n",
    "\n",
    "\n",
    "if not os.path.exists('trimmed'):\n",
    "    os.makedirs('trimmed')\n",
    "if not os.path.exists('trimmed/labels'):\n",
    "        os.makedirs('trimmed/labels')\n",
    "if not os.path.exists('trimmed/data'):\n",
    "        os.makedirs('trimmed/data')\n",
    "        \n",
    "\n",
    "    \n",
    "limitWeeks = 1\n",
    "\n",
    "limit = limitWeeks * 7 * 24 * 60 * 60\n",
    "print(limit)"
   ]
  },
  {
   "cell_type": "code",
   "execution_count": 2,
   "metadata": {},
   "outputs": [
    {
     "name": "stdout",
     "output_type": "stream",
     "text": [
      "['0.csv', '1.csv', '10.csv', '11.csv', '12.csv', '13.csv', '14.csv', '15.csv', '16.csv', '2.csv', '3.csv', '4.csv', '5.csv', '6.csv', '7.csv', '8.csv', '9.csv']\n"
     ]
    }
   ],
   "source": [
    "names = glob.glob(\"*.csv\")\n",
    "print(names)"
   ]
  },
  {
   "cell_type": "code",
   "execution_count": 3,
   "metadata": {},
   "outputs": [
    {
     "name": "stdout",
     "output_type": "stream",
     "text": [
      "Done reading\n",
      "Done writing\n",
      "Done reading\n",
      "Done writing\n",
      "Done reading\n",
      "Done writing\n",
      "Done reading\n",
      "Done writing\n",
      "Done reading\n",
      "Done writing\n",
      "Done reading\n",
      "Done writing\n",
      "Done reading\n",
      "Done writing\n",
      "Done reading\n",
      "Done writing\n",
      "Done reading\n",
      "Done writing\n",
      "Done reading\n",
      "Done writing\n",
      "Done reading\n",
      "Done writing\n",
      "Done reading\n",
      "Done writing\n",
      "Done reading\n",
      "Done writing\n",
      "Done reading\n",
      "Done writing\n",
      "Done reading\n",
      "Done writing\n",
      "Done reading\n",
      "Done writing\n",
      "Done reading\n",
      "Done writing\n",
      "Done\n"
     ]
    }
   ],
   "source": [
    "for name in names:\n",
    "    preTrim = open(name, 'r')\n",
    "    lineCount = 0\n",
    "    for line in preTrim:\n",
    "        lineCount+=1\n",
    "    preTrim.close()\n",
    "    print(\"Done reading\")\n",
    "    preTrim = open(name,'r')\n",
    "    \n",
    "    trimmedLabels = open(\"./trimmed/labels/\" + name, 'w')\n",
    "    trimmedData = open(\"./trimmed/data/\" + name, 'w')\n",
    "    x = preTrim.readline()\n",
    "    lineSplit = x.split(\",\")\n",
    "    lineSplit.pop(0)\n",
    "    x = \",\".join(lineSplit)\n",
    "    trimmedData.write(x)\n",
    "    extra = 0\n",
    "    if lineCount > limit:\n",
    "        extra = lineCount - limit\n",
    "        lineCount = limit\n",
    "        \n",
    "        \n",
    "    for i in range(extra):\n",
    "        preTrim.readline()\n",
    "        \n",
    "    for i in range(lineCount):\n",
    "        secsUntil = lineCount - i\n",
    "        \n",
    "        newLine = preTrim.readline()\n",
    "        lineSplit = newLine.split(\",\")\n",
    "        lineSplit.pop(0)\n",
    "        newLine = \",\".join(lineSplit)\n",
    "    \n",
    "        trimmedData.write(newLine)\n",
    "        trimmedLabels.write(str(secsUntil) + \"\\n\")\n",
    "    print(\"Done writing\")\n",
    "    trimmedData.close()\n",
    "    trimmedLabels.close()\n",
    "\n",
    "print(\"Done\")\n",
    "    "
   ]
  },
  {
   "cell_type": "code",
   "execution_count": null,
   "metadata": {},
   "outputs": [],
   "source": []
  },
  {
   "cell_type": "code",
   "execution_count": null,
   "metadata": {},
   "outputs": [],
   "source": []
  }
 ],
 "metadata": {
  "kernelspec": {
   "display_name": "Python 3",
   "language": "python",
   "name": "python3"
  },
  "language_info": {
   "codemirror_mode": {
    "name": "ipython",
    "version": 3
   },
   "file_extension": ".py",
   "mimetype": "text/x-python",
   "name": "python",
   "nbconvert_exporter": "python",
   "pygments_lexer": "ipython3",
   "version": "3.7.5"
  }
 },
 "nbformat": 4,
 "nbformat_minor": 4
}
