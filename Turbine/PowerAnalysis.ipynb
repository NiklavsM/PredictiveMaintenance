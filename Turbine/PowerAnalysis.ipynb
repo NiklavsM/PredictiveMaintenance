{
 "cells": [
  {
   "cell_type": "code",
   "execution_count": null,
   "metadata": {},
   "outputs": [],
   "source": [
    "\n",
    "import numpy as np\n",
    "import pandas as pd\n",
    "import matplotlib.pyplot as plt\n",
    "import seaborn as sns\n",
    "import math as mt\n",
    "import random as rng\n",
    "\n",
    "from sklearn import preprocessing\n",
    "\n",
    "def getColumns(size):\n",
    "    columns = []\n",
    "    for i in range(size):\n",
    "        columns.append(i)\n",
    "    return columns\n",
    "\n",
    "\n",
    "\n",
    "directory = \"D:\\WindData\\POD_Request_3541\\POD_Request_3541\\Alarm-log\\AlarmSorted.csv\"\n",
    "log = pd.read_csv(directory, skiprows=range(1,6174))"
   ]
  }
 ],
 "metadata": {
  "kernelspec": {
   "display_name": "Python 3",
   "language": "python",
   "name": "python3"
  },
  "language_info": {
   "codemirror_mode": {
    "name": "ipython",
    "version": 3
   },
   "file_extension": ".py",
   "mimetype": "text/x-python",
   "name": "python",
   "nbconvert_exporter": "python",
   "pygments_lexer": "ipython3",
   "version": "3.7.4"
  }
 },
 "nbformat": 4,
 "nbformat_minor": 4
}
