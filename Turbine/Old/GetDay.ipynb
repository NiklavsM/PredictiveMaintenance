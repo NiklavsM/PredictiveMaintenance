{
 "cells": [
  {
   "cell_type": "code",
   "execution_count": 1,
   "metadata": {},
   "outputs": [],
   "source": [
    "import pandas as pd\n",
    "import numpy as np\n",
    "\n",
    "\n",
    "dir = \"D:/WindData/POD_Request_3541/POD_Request_3541/1Hz-Tur/LDT-1Hz-Tur-2017-08/LDT-1Hz-08.csv\"\n",
    "\n",
    "\n",
    "day = 11\n",
    "\n",
    "data = (day - 2)* 24 * 60 * 60\n",
    "\n",
    "\n",
    "csv = pd.read_csv(dir, skiprows=range(1, data), nrows=172800)\n"
   ]
  },
  {
   "cell_type": "code",
   "execution_count": 2,
   "metadata": {},
   "outputs": [
    {
     "name": "stdout",
     "output_type": "stream",
     "text": [
      "hey\n"
     ]
    }
   ],
   "source": [
    "print(\"hey\")"
   ]
  },
  {
   "cell_type": "code",
   "execution_count": 3,
   "metadata": {},
   "outputs": [],
   "source": [
    "csv.to_csv(\"D:/WindData/POD_Request_3541/POD_Request_3541/1Hz-Tur/LDT-1Hz-Tur-2017-08/11.csv\")"
   ]
  },
  {
   "cell_type": "code",
   "execution_count": 4,
   "metadata": {},
   "outputs": [
    {
     "name": "stdout",
     "output_type": "stream",
     "text": [
      "Hey\n"
     ]
    }
   ],
   "source": [
    "print(\"Hey\")"
   ]
  },
  {
   "cell_type": "code",
   "execution_count": 5,
   "metadata": {},
   "outputs": [
    {
     "name": "stdout",
     "output_type": "stream",
     "text": [
      "                 TimeStamp  IsTrigger  ReactivePower_kVAr  Power_kW  \\\n",
      "0  2017-08-10 04:29:47.931          0                   4       381   \n",
      "1  2017-08-10 04:29:48.933          0                  -2       369   \n",
      "2  2017-08-10 04:29:49.974          0                  -2       369   \n",
      "3  2017-08-10 04:29:50.986          0                  -1       365   \n",
      "4  2017-08-10 04:29:51.987          0                  -1       365   \n",
      "5  2017-08-10 04:29:52.998          0                   1       318   \n",
      "6  2017-08-10 04:29:54.040          0                   1       318   \n",
      "7  2017-08-10 04:29:55.071          0                   1       329   \n",
      "8  2017-08-10 04:29:56.103          0                   1       329   \n",
      "9  2017-08-10 04:29:57.114          0                   2       364   \n",
      "\n",
      "   WindSpeed_mps  BrakeState  CrewPresent  ErrorCode  GenState  RunState  ...  \\\n",
      "0       5.446199           1            1       1249         6         1  ...   \n",
      "1       4.766426           1            1       1249         6         1  ...   \n",
      "2       4.766426           1            1       1249         6         1  ...   \n",
      "3       4.772148           1            1       1249         6         1  ...   \n",
      "4       4.772148           1            1       1249         6         1  ...   \n",
      "5       4.996450           1            1       1249         6         1  ...   \n",
      "6       4.996450           1            1       1249         6         1  ...   \n",
      "7       5.005606           1            1       1249         6         1  ...   \n",
      "8       5.005606           1            1       1249         6         1  ...   \n",
      "9       5.108602           1            1       1249         6         1  ...   \n",
      "\n",
      "   ChannelsUpdateQueueSize  TraceMessageQueueSize  FileOpsTaskExecutionTime  \\\n",
      "0                        0                      0                  0.000005   \n",
      "1                        0                      0                  0.000004   \n",
      "2                        0                      0                  0.000004   \n",
      "3                        0                      0                  0.000005   \n",
      "4                        0                      0                  0.000005   \n",
      "5                        0                      0                  0.000005   \n",
      "6                        0                      0                  0.000005   \n",
      "7                        0                      0                  0.000005   \n",
      "8                        0                      0                  0.000005   \n",
      "9                        4                      0                  0.000029   \n",
      "\n",
      "   FileOpsTaskWatchdog  TraceTaskExecutionTime  TraceTaskWatchdog  \\\n",
      "0              1134097                0.000001            1135692   \n",
      "1              1134138                0.000002            1135733   \n",
      "2              1134138                0.000002            1135733   \n",
      "3              1134180                0.000002            1135775   \n",
      "4              1134180                0.000002            1135775   \n",
      "5              1134221                0.000002            1135816   \n",
      "6              1134221                0.000002            1135816   \n",
      "7              1134263                0.000001            1135858   \n",
      "8              1134263                0.000001            1135858   \n",
      "9              1134304                0.000003            1135899   \n",
      "\n",
      "   GBoxExtnlHeaterPres2  SubBldLdsOemInPlaneMoBld3  SubBldLdsOemInPlaneMoBld2  \\\n",
      "0                     0                 -7522103.0                  4060150.0   \n",
      "1                     0                 -4094870.0                 -3456536.0   \n",
      "2                     0                 -4094870.0                 -3456536.0   \n",
      "3                     0                  4095912.0                 -7501599.0   \n",
      "4                     0                  4095912.0                 -7501599.0   \n",
      "5                     0                  7807365.0                 -4979403.0   \n",
      "6                     0                  7807365.0                 -4979403.0   \n",
      "7                     0                  5002299.0                  2781552.0   \n",
      "8                     0                  5002299.0                  2781552.0   \n",
      "9                     0                 -2250797.0                  7122902.0   \n",
      "\n",
      "   SubBldLdsOemInPlaneMoBld1  \n",
      "0                  3850757.0  \n",
      "1                  7654667.0  \n",
      "2                  7654667.0  \n",
      "3                  4033360.0  \n",
      "4                  4033360.0  \n",
      "5                 -3197631.0  \n",
      "6                 -3197631.0  \n",
      "7                 -7952183.0  \n",
      "8                 -7952183.0  \n",
      "9                 -5575143.0  \n",
      "\n",
      "[10 rows x 574 columns]\n"
     ]
    }
   ],
   "source": [
    "print(csv.head(10))"
   ]
  },
  {
   "cell_type": "code",
   "execution_count": null,
   "metadata": {},
   "outputs": [],
   "source": []
  }
 ],
 "metadata": {
  "kernelspec": {
   "display_name": "Python 3",
   "language": "python",
   "name": "python3"
  },
  "language_info": {
   "codemirror_mode": {
    "name": "ipython",
    "version": 3
   },
   "file_extension": ".py",
   "mimetype": "text/x-python",
   "name": "python",
   "nbconvert_exporter": "python",
   "pygments_lexer": "ipython3",
   "version": "3.7.4"
  }
 },
 "nbformat": 4,
 "nbformat_minor": 4
}
