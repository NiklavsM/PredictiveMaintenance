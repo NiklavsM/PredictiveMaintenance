{
 "cells": [
  {
   "cell_type": "code",
   "execution_count": 1,
   "metadata": {},
   "outputs": [
    {
     "name": "stderr",
     "output_type": "stream",
     "text": [
      "Using TensorFlow backend.\n"
     ]
    }
   ],
   "source": [
    "# Adding all needed imports\n",
    "\n",
    "import tensorflow as tf\n",
    "from tensorflow import keras\n",
    "from keras import regularizers\n",
    "from keras import layers\n",
    "from keras.models import Model\n",
    "#print(tf.keras.__version__)\n",
    "#print(tf.__version__)\n",
    "\n",
    "import numpy as np\n"
   ]
  },
  {
   "cell_type": "code",
   "execution_count": 2,
   "metadata": {},
   "outputs": [],
   "source": [
    "from keras.utils import plot_model\n",
    "import matplotlib.pyplot as plt"
   ]
  },
  {
   "cell_type": "code",
   "execution_count": 3,
   "metadata": {},
   "outputs": [
    {
     "name": "stdout",
     "output_type": "stream",
     "text": [
      "151\n",
      "151\n",
      "70\n",
      "70\n",
      "15\n",
      "151\n",
      "11\n"
     ]
    }
   ],
   "source": [
    "dataTrain = np.load(\"dataFormatted/finished/stTrain.npy\", allow_pickle=True)\n",
    "targetTrain = np.load(\"dataFormatted/finished/stTrainTarget.npy\", allow_pickle=True)\n",
    "\n",
    "\n",
    "dataVal = np.load(\"dataFormatted/finished/stVal.npy\", allow_pickle=True)\n",
    "targetVal = np.load(\"dataFormatted/finished/stValTarget.npy\", allow_pickle=True)\n",
    "\n",
    "\n",
    "print(len(dataTrain[0]))\n",
    "print(len(targetTrain[0]))\n",
    "print(len(dataTrain))\n",
    "print(len(targetTrain))\n",
    "\n",
    "\n",
    "\n",
    "dataTest = dataVal[0:15]\n",
    "targetTest = targetVal[0:15]\n",
    "\n",
    "\n",
    "dataVal = dataVal[15:]\n",
    "targetVal = targetVal[15:]\n",
    "\n",
    "print(len(dataTest))\n",
    "print(len(dataTest[0]))\n",
    "print(len(dataTest[0][0]))"
   ]
  },
  {
   "cell_type": "code",
   "execution_count": 4,
   "metadata": {},
   "outputs": [],
   "source": [
    "numRows = 30\n",
    "step = 15\n",
    "\n",
    "\n",
    "\n",
    "def finalSplit(data, targets, numRows, step):\n",
    "    div = int(numRows/2)\n",
    "    splits = []\n",
    "    splitsTarget = []\n",
    "    for each in range(len(data)):\n",
    "        run = data[each]\n",
    "        target = targets[each]\n",
    "        for i in range(div, len(target) - div, step):\n",
    "            split = []\n",
    "            RUL = 0\n",
    "            for j in range(-div,div):\n",
    "                index = i + j\n",
    "                element = run[index].copy()\n",
    "                RUL = target[index]\n",
    "                split.append(element)\n",
    "            splits.append(split)\n",
    "            splitsTarget.append(RUL)\n",
    "            \n",
    "    return splits, splitsTarget"
   ]
  },
  {
   "cell_type": "code",
   "execution_count": 5,
   "metadata": {},
   "outputs": [
    {
     "name": "stdout",
     "output_type": "stream",
     "text": [
      "625\n",
      "132\n"
     ]
    }
   ],
   "source": [
    "dataSplitTrain, targetSplitTrain = finalSplit(dataTrain, targetTrain, numRows, step)\n",
    "dataSplitVal, targetSplitVal = finalSplit(dataVal, targetVal, numRows, step)\n",
    "dataSplitTest, targetSplitTest = finalSplit(dataTest, targetTest, numRows, step)\n",
    "\n",
    "print(len(dataSplitTrain))\n",
    "print(len(dataSplitVal))"
   ]
  },
  {
   "cell_type": "code",
   "execution_count": 6,
   "metadata": {},
   "outputs": [
    {
     "name": "stdout",
     "output_type": "stream",
     "text": [
      "11\n"
     ]
    }
   ],
   "source": [
    "dataSplitTrain = np.array(dataSplitTrain)\n",
    "targetSplitTrain = np.array(targetSplitTrain)\n",
    "dataSplitVal = np.array(dataSplitVal)\n",
    "targetSplitVal = np.array(targetSplitVal)\n",
    "dataSplitTest = np.array(dataSplitTest)\n",
    "targetSplitTest = np.array(targetSplitTest)\n",
    "\n",
    "\n",
    "width = len(dataSplitTrain[0][0])\n",
    "print(width)"
   ]
  },
  {
   "cell_type": "code",
   "execution_count": 7,
   "metadata": {},
   "outputs": [
    {
     "name": "stdout",
     "output_type": "stream",
     "text": [
      "Model: \"model_1\"\n",
      "_________________________________________________________________\n",
      "Layer (type)                 Output Shape              Param #   \n",
      "=================================================================\n",
      "input_1 (InputLayer)         (None, 30, 11)            0         \n",
      "_________________________________________________________________\n",
      "conv1d_1 (Conv1D)            (None, 28, 11)            374       \n",
      "_________________________________________________________________\n",
      "gru_1 (GRU)                  (None, 150)               72900     \n",
      "_________________________________________________________________\n",
      "dense_1 (Dense)              (None, 150)               22650     \n",
      "_________________________________________________________________\n",
      "dropout_1 (Dropout)          (None, 150)               0         \n",
      "_________________________________________________________________\n",
      "dense_2 (Dense)              (None, 1)                 151       \n",
      "=================================================================\n",
      "Total params: 96,075\n",
      "Trainable params: 96,075\n",
      "Non-trainable params: 0\n",
      "_________________________________________________________________\n",
      "None\n"
     ]
    }
   ],
   "source": [
    "visible = layers.Input(shape=(numRows, width,))\n",
    "\n",
    "cnn = layers.Conv1D(width, 3, activation='relu')(visible)\n",
    "rnn1 = layers.GRU(150, dropout=0.2)(cnn)\n",
    "#rnn2 = layers.GRU(150, dropout=0.2)(rnn1)\n",
    "\n",
    "\n",
    "#rnnX = layers.LSTM(300, return_sequences=True, dropout=0.2, recurrent_dropout=0.2)(visible)\n",
    "#rnnY = layers.LSTM(300, dropout=0.2, recurrent_dropout=0.2)(rnnX)\n",
    "\n",
    "#combo = layers.concatenate([rnn2,rnnY])\n",
    "dense = layers.Dense(150, activation='relu')(rnn1)\n",
    "drop = layers.Dropout(0.2)(dense)\n",
    "out = layers.Dense(1, activation='linear')(drop)\n",
    "\n",
    "model = Model(inputs=visible, outputs=out)\n",
    "\n",
    "\n",
    "print(model.summary())\n"
   ]
  },
  {
   "cell_type": "code",
   "execution_count": 8,
   "metadata": {},
   "outputs": [],
   "source": [
    "model.compile(optimizer=tf.keras.optimizers.RMSprop(0.0005),\n",
    "              loss='mse', \n",
    "              metrics=['mae'])\n"
   ]
  },
  {
   "cell_type": "code",
   "execution_count": 9,
   "metadata": {},
   "outputs": [
    {
     "name": "stdout",
     "output_type": "stream",
     "text": [
      "Train on 625 samples, validate on 132 samples\n",
      "Epoch 1/50\n",
      "625/625 [==============================] - 1s 2ms/step - loss: 4422.7660 - mae: 55.5316 - val_loss: 2796.8214 - val_mae: 43.3721\n",
      "Epoch 2/50\n",
      "625/625 [==============================] - 1s 1ms/step - loss: 2276.4149 - mae: 39.3597 - val_loss: 1836.3061 - val_mae: 35.9786\n",
      "Epoch 3/50\n",
      "625/625 [==============================] - 1s 1ms/step - loss: 1673.4599 - mae: 34.7616 - val_loss: 1465.6098 - val_mae: 33.0138\n",
      "Epoch 4/50\n",
      "625/625 [==============================] - 1s 1ms/step - loss: 1186.6833 - mae: 28.6269 - val_loss: 769.7480 - val_mae: 21.5359\n",
      "Epoch 5/50\n",
      "625/625 [==============================] - 1s 1ms/step - loss: 707.1517 - mae: 21.5948 - val_loss: 564.3025 - val_mae: 18.6590\n",
      "Epoch 6/50\n",
      "625/625 [==============================] - 1s 1ms/step - loss: 527.8477 - mae: 18.4351 - val_loss: 409.6977 - val_mae: 16.5910\n",
      "Epoch 7/50\n",
      "625/625 [==============================] - 1s 1ms/step - loss: 481.4485 - mae: 17.4905 - val_loss: 384.5901 - val_mae: 16.8230\n",
      "Epoch 8/50\n",
      "625/625 [==============================] - 1s 1ms/step - loss: 428.4192 - mae: 16.4163 - val_loss: 329.4916 - val_mae: 14.9642\n",
      "Epoch 9/50\n",
      "625/625 [==============================] - 1s 1ms/step - loss: 415.9120 - mae: 16.0771 - val_loss: 373.4730 - val_mae: 15.7782\n",
      "Epoch 10/50\n",
      "625/625 [==============================] - 1s 1ms/step - loss: 414.9092 - mae: 15.8645 - val_loss: 319.7232 - val_mae: 13.9933\n",
      "Epoch 11/50\n",
      "625/625 [==============================] - 1s 1ms/step - loss: 391.0596 - mae: 15.4647 - val_loss: 294.8965 - val_mae: 13.6233\n",
      "Epoch 12/50\n",
      "625/625 [==============================] - 1s 1ms/step - loss: 393.4236 - mae: 15.3035 - val_loss: 420.6794 - val_mae: 16.9310\n",
      "Epoch 13/50\n",
      "625/625 [==============================] - 1s 1ms/step - loss: 375.9784 - mae: 14.9959 - val_loss: 333.9767 - val_mae: 15.4586\n",
      "Epoch 14/50\n",
      "625/625 [==============================] - 1s 1ms/step - loss: 356.2774 - mae: 14.4908 - val_loss: 312.6614 - val_mae: 14.5080\n",
      "Epoch 15/50\n",
      "625/625 [==============================] - 1s 1ms/step - loss: 364.8813 - mae: 14.5997 - val_loss: 301.8814 - val_mae: 13.8879\n",
      "Epoch 16/50\n",
      "625/625 [==============================] - 1s 1ms/step - loss: 345.7420 - mae: 14.4902 - val_loss: 313.7494 - val_mae: 14.2781\n",
      "Epoch 17/50\n",
      "625/625 [==============================] - 1s 1ms/step - loss: 349.2745 - mae: 14.1981 - val_loss: 278.6989 - val_mae: 13.4891\n",
      "Epoch 18/50\n",
      "625/625 [==============================] - 1s 1ms/step - loss: 342.5417 - mae: 14.2610 - val_loss: 328.0483 - val_mae: 13.9291\n",
      "Epoch 19/50\n",
      "625/625 [==============================] - 1s 1ms/step - loss: 314.0118 - mae: 13.4865 - val_loss: 296.6879 - val_mae: 13.4128\n",
      "Epoch 20/50\n",
      "625/625 [==============================] - 1s 1ms/step - loss: 337.5486 - mae: 14.0004 - val_loss: 266.1214 - val_mae: 12.6379\n",
      "Epoch 21/50\n",
      "625/625 [==============================] - 1s 1ms/step - loss: 310.4388 - mae: 13.4057 - val_loss: 262.7490 - val_mae: 12.7763\n",
      "Epoch 22/50\n",
      "625/625 [==============================] - 1s 1ms/step - loss: 339.8038 - mae: 13.8614 - val_loss: 252.0070 - val_mae: 12.6047\n",
      "Epoch 23/50\n",
      "625/625 [==============================] - 1s 1ms/step - loss: 311.4948 - mae: 13.4468 - val_loss: 236.4399 - val_mae: 12.0055\n",
      "Epoch 24/50\n",
      "625/625 [==============================] - 1s 1ms/step - loss: 309.3221 - mae: 13.1578 - val_loss: 242.7167 - val_mae: 12.0289\n",
      "Epoch 25/50\n",
      "625/625 [==============================] - 1s 1ms/step - loss: 281.1744 - mae: 12.6962 - val_loss: 281.9324 - val_mae: 13.9594\n",
      "Epoch 26/50\n",
      "625/625 [==============================] - 1s 1ms/step - loss: 305.5336 - mae: 13.4195 - val_loss: 252.6926 - val_mae: 12.8403\n",
      "Epoch 27/50\n",
      "625/625 [==============================] - 1s 1ms/step - loss: 278.8617 - mae: 12.6229 - val_loss: 287.5714 - val_mae: 12.4109\n",
      "Epoch 28/50\n",
      "625/625 [==============================] - 1s 1ms/step - loss: 304.7298 - mae: 13.1135 - val_loss: 236.0785 - val_mae: 12.4291\n",
      "Epoch 29/50\n",
      "625/625 [==============================] - 1s 1ms/step - loss: 284.7705 - mae: 12.8579 - val_loss: 197.2678 - val_mae: 10.5491\n",
      "Epoch 30/50\n",
      "625/625 [==============================] - 1s 1ms/step - loss: 290.8694 - mae: 12.8817 - val_loss: 196.0133 - val_mae: 11.0581\n",
      "Epoch 31/50\n",
      "625/625 [==============================] - 1s 1ms/step - loss: 277.1813 - mae: 12.6461 - val_loss: 229.3369 - val_mae: 11.9440\n",
      "Epoch 32/50\n",
      "625/625 [==============================] - 1s 1ms/step - loss: 267.5969 - mae: 12.1135 - val_loss: 191.8356 - val_mae: 10.9447\n",
      "Epoch 33/50\n",
      "625/625 [==============================] - 1s 1ms/step - loss: 258.1866 - mae: 11.8874 - val_loss: 193.9595 - val_mae: 10.9036\n",
      "Epoch 34/50\n",
      "625/625 [==============================] - 1s 1ms/step - loss: 268.7713 - mae: 12.1719 - val_loss: 451.3636 - val_mae: 17.0163\n",
      "Epoch 35/50\n",
      "625/625 [==============================] - 1s 1ms/step - loss: 289.5664 - mae: 12.6254 - val_loss: 217.0394 - val_mae: 11.7539\n",
      "Epoch 36/50\n",
      "625/625 [==============================] - 1s 1ms/step - loss: 271.2587 - mae: 12.2561 - val_loss: 191.2520 - val_mae: 11.1178\n",
      "Epoch 37/50\n",
      "625/625 [==============================] - 1s 1ms/step - loss: 259.0184 - mae: 12.1580 - val_loss: 188.0630 - val_mae: 10.7777\n",
      "Epoch 38/50\n",
      "625/625 [==============================] - 1s 1ms/step - loss: 260.2841 - mae: 12.0471 - val_loss: 179.5066 - val_mae: 10.6584\n",
      "Epoch 39/50\n",
      "625/625 [==============================] - 1s 1ms/step - loss: 245.7412 - mae: 11.7820 - val_loss: 185.1753 - val_mae: 11.0529\n",
      "Epoch 40/50\n",
      "625/625 [==============================] - 1s 1ms/step - loss: 241.1823 - mae: 11.5883 - val_loss: 175.7094 - val_mae: 10.5044\n",
      "Epoch 41/50\n",
      "625/625 [==============================] - 1s 1ms/step - loss: 257.0691 - mae: 11.7432 - val_loss: 188.5255 - val_mae: 11.3381\n",
      "Epoch 42/50\n",
      "625/625 [==============================] - 1s 1ms/step - loss: 245.8410 - mae: 11.6555 - val_loss: 217.5463 - val_mae: 11.5306\n",
      "Epoch 43/50\n",
      "625/625 [==============================] - 1s 1ms/step - loss: 238.2120 - mae: 11.3508 - val_loss: 191.0733 - val_mae: 10.8118\n",
      "Epoch 44/50\n",
      "625/625 [==============================] - 1s 1ms/step - loss: 242.8090 - mae: 11.5442 - val_loss: 180.4104 - val_mae: 10.4455\n",
      "Epoch 45/50\n",
      "625/625 [==============================] - 1s 1ms/step - loss: 230.9655 - mae: 11.2512 - val_loss: 184.8536 - val_mae: 10.9394\n",
      "Epoch 46/50\n",
      "625/625 [==============================] - 1s 1ms/step - loss: 239.2758 - mae: 11.5116 - val_loss: 196.6881 - val_mae: 10.7210\n",
      "Epoch 47/50\n",
      "625/625 [==============================] - 1s 1ms/step - loss: 225.3218 - mae: 11.1044 - val_loss: 179.8409 - val_mae: 11.0138\n",
      "Epoch 48/50\n",
      "625/625 [==============================] - 1s 1ms/step - loss: 230.3750 - mae: 11.2914 - val_loss: 235.9172 - val_mae: 11.9292\n",
      "Epoch 49/50\n",
      "625/625 [==============================] - 1s 1ms/step - loss: 206.9809 - mae: 10.7646 - val_loss: 200.6372 - val_mae: 11.6340\n",
      "Epoch 50/50\n",
      "625/625 [==============================] - 1s 1ms/step - loss: 234.7840 - mae: 11.4917 - val_loss: 154.5011 - val_mae: 9.4174\n"
     ]
    }
   ],
   "source": [
    "history = model.fit(dataSplitTrain, targetSplitTrain, epochs=50, verbose=1, validation_data=(dataSplitVal,targetSplitVal))"
   ]
  },
  {
   "cell_type": "code",
   "execution_count": 10,
   "metadata": {},
   "outputs": [
    {
     "name": "stdout",
     "output_type": "stream",
     "text": [
      "134/134 [==============================] - 0s 410us/step\n"
     ]
    },
    {
     "data": {
      "text/plain": [
       "[172.12236182369404, 10.061116218566895]"
      ]
     },
     "execution_count": 10,
     "metadata": {},
     "output_type": "execute_result"
    }
   ],
   "source": [
    "model.evaluate(dataSplitTest, targetSplitTest)"
   ]
  },
  {
   "cell_type": "code",
   "execution_count": null,
   "metadata": {},
   "outputs": [],
   "source": [
    "#Save model\n",
    "model_json = model.to_json()\n",
    "with open(\"savedStates/model.json\", \"w\") as json_file:\n",
    "    json_file.write(model_json)\n",
    "# serialize weights to HDF5\n",
    "model.save_weights(\"savedStates/model.h5\")\n",
    "print(\"Saved model to disk\")\n"
   ]
  },
  {
   "cell_type": "code",
   "execution_count": 17,
   "metadata": {},
   "outputs": [
    {
     "data": {
      "image/png": "[encoded data removed]",
      "text/plain": [
       "<Figure size 1080x1080 with 1 Axes>"
      ]
     },
     "metadata": {
      "needs_background": "light"
     },
     "output_type": "display_data"
    }
   ],
   "source": [
    "#Get history graph\n",
    "import matplotlib\n",
    "fig = plt.gcf()\n",
    "fig.set_size_inches(15, 15)\n",
    "plt.plot(history.history['mae'])\n",
    "plt.plot(history.history['val_mae'])\n",
    "plt.title('Mean Absolute Error over time')\n",
    "plt.ylabel('MAE(Cycles)')\n",
    "plt.xlabel('Epoch')\n",
    "plt.legend(['Train', 'Validation'], loc='upper left')\n",
    "\n",
    "font = {\n",
    "        'weight' : 'bold',\n",
    "        'size'   : 25}\n",
    "\n",
    "matplotlib.rc('font', **font)\n",
    "\n",
    "\n",
    "\n",
    "plt.savefig('FinalMAE.png',  bbox_inches='tight')"
   ]
  },
  {
   "cell_type": "code",
   "execution_count": null,
   "metadata": {},
   "outputs": [],
   "source": []
  },
  {
   "cell_type": "code",
   "execution_count": null,
   "metadata": {},
   "outputs": [],
   "source": []
  },
  {
   "cell_type": "code",
   "execution_count": 14,
   "metadata": {},
   "outputs": [],
   "source": [
    "#model.predict(dataSplitVal)"
   ]
  },
  {
   "cell_type": "code",
   "execution_count": null,
   "metadata": {},
   "outputs": [],
   "source": []
  }
 ],
 "metadata": {
  "kernelspec": {
   "display_name": "Python 3",
   "language": "python",
   "name": "python3"
  },
  "language_info": {
   "codemirror_mode": {
    "name": "ipython",
    "version": 3
   },
   "file_extension": ".py",
   "mimetype": "text/x-python",
   "name": "python",
   "nbconvert_exporter": "python",
   "pygments_lexer": "ipython3",
   "version": "3.7.5"
  }
 },
 "nbformat": 4,
 "nbformat_minor": 4
}
