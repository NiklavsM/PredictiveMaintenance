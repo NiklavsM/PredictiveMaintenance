{
 "cells": [
  {
   "cell_type": "code",
   "execution_count": 1,
   "metadata": {},
   "outputs": [
    {
     "name": "stderr",
     "output_type": "stream",
     "text": [
      "Using TensorFlow backend.\n"
     ]
    }
   ],
   "source": [
    "# Adding all needed imports\n",
    "\n",
    "import tensorflow as tf\n",
    "from tensorflow import keras\n",
    "from keras import regularizers\n",
    "from keras import layers\n",
    "from keras.models import Model\n",
    "#print(tf.keras.__version__)\n",
    "#print(tf.__version__)\n",
    "\n",
    "import numpy as np\n"
   ]
  },
  {
   "cell_type": "code",
   "execution_count": 2,
   "metadata": {},
   "outputs": [],
   "source": [
    "from keras.utils import plot_model\n",
    "import matplotlib.pyplot as plt"
   ]
  },
  {
   "cell_type": "code",
   "execution_count": 3,
   "metadata": {},
   "outputs": [
    {
     "name": "stdout",
     "output_type": "stream",
     "text": [
      "151\n",
      "151\n",
      "70\n",
      "70\n",
      "15\n",
      "151\n",
      "11\n"
     ]
    }
   ],
   "source": [
    "dataTrain = np.load(\"dataFormatted/finished/stTrain.npy\", allow_pickle=True)\n",
    "targetTrain = np.load(\"dataFormatted/finished/stTrainTarget.npy\", allow_pickle=True)\n",
    "\n",
    "\n",
    "dataVal = np.load(\"dataFormatted/finished/stVal.npy\", allow_pickle=True)\n",
    "targetVal = np.load(\"dataFormatted/finished/stValTarget.npy\", allow_pickle=True)\n",
    "\n",
    "\n",
    "print(len(dataTrain[0]))\n",
    "print(len(targetTrain[0]))\n",
    "print(len(dataTrain))\n",
    "print(len(targetTrain))\n",
    "\n",
    "\n",
    "\n",
    "dataTest = dataVal[0:15]\n",
    "targetTest = targetVal[0:15]\n",
    "\n",
    "\n",
    "dataVal = dataVal[15:]\n",
    "targetVal = targetVal[15:]\n",
    "\n",
    "print(len(dataTest))\n",
    "print(len(dataTest[0]))\n",
    "print(len(dataTest[0][0]))"
   ]
  },
  {
   "cell_type": "code",
   "execution_count": 4,
   "metadata": {},
   "outputs": [],
   "source": [
    "numRows = 30\n",
    "step = 5\n",
    "\n",
    "\n",
    "\n",
    "def finalSplit(data, targets, numRows, step):\n",
    "    div = int(numRows/2)\n",
    "    splits = []\n",
    "    splitsTarget = []\n",
    "    for each in range(len(data)):\n",
    "        run = data[each]\n",
    "        target = targets[each]\n",
    "        for i in range(div, len(target) - div, step):\n",
    "            split = []\n",
    "            RUL = 0\n",
    "            for j in range(-div,div):\n",
    "                index = i + j\n",
    "                element = run[index].copy()\n",
    "                RUL = target[index]\n",
    "                split.append(element)\n",
    "            splits.append(split)\n",
    "            splitsTarget.append(RUL)\n",
    "            \n",
    "    return splits, splitsTarget"
   ]
  },
  {
   "cell_type": "code",
   "execution_count": 5,
   "metadata": {},
   "outputs": [
    {
     "name": "stdout",
     "output_type": "stream",
     "text": [
      "1740\n",
      "374\n"
     ]
    }
   ],
   "source": [
    "dataSplitTrain, targetSplitTrain = finalSplit(dataTrain, targetTrain, numRows, step)\n",
    "dataSplitVal, targetSplitVal = finalSplit(dataVal, targetVal, numRows, step)\n",
    "dataSplitTest, targetSplitTest = finalSplit(dataTest, targetTest, numRows, step)\n",
    "\n",
    "print(len(dataSplitTrain))\n",
    "print(len(dataSplitVal))"
   ]
  },
  {
   "cell_type": "code",
   "execution_count": 6,
   "metadata": {},
   "outputs": [
    {
     "name": "stdout",
     "output_type": "stream",
     "text": [
      "11\n"
     ]
    }
   ],
   "source": [
    "dataSplitTrain = np.array(dataSplitTrain)\n",
    "targetSplitTrain = np.array(targetSplitTrain)\n",
    "dataSplitVal = np.array(dataSplitVal)\n",
    "targetSplitVal = np.array(targetSplitVal)\n",
    "dataSplitTest = np.array(dataSplitTest)\n",
    "targetSplitTest = np.array(targetSplitTest)\n",
    "\n",
    "\n",
    "width = len(dataSplitTrain[0][0])\n",
    "print(width)"
   ]
  },
  {
   "cell_type": "code",
   "execution_count": 7,
   "metadata": {},
   "outputs": [
    {
     "name": "stdout",
     "output_type": "stream",
     "text": [
      "Model: \"model_1\"\n",
      "_________________________________________________________________\n",
      "Layer (type)                 Output Shape              Param #   \n",
      "=================================================================\n",
      "input_1 (InputLayer)         (None, 30, 11)            0         \n",
      "_________________________________________________________________\n",
      "conv1d_1 (Conv1D)            (None, 28, 11)            374       \n",
      "_________________________________________________________________\n",
      "gru_1 (GRU)                  (None, 150)               72900     \n",
      "_________________________________________________________________\n",
      "dense_1 (Dense)              (None, 150)               22650     \n",
      "_________________________________________________________________\n",
      "dropout_1 (Dropout)          (None, 150)               0         \n",
      "_________________________________________________________________\n",
      "dense_2 (Dense)              (None, 1)                 151       \n",
      "=================================================================\n",
      "Total params: 96,075\n",
      "Trainable params: 96,075\n",
      "Non-trainable params: 0\n",
      "_________________________________________________________________\n",
      "None\n"
     ]
    }
   ],
   "source": [
    "visible = layers.Input(shape=(numRows, width,))\n",
    "\n",
    "cnn = layers.Conv1D(width, 3, activation='relu')(visible)\n",
    "rnn1 = layers.GRU(150, dropout=0.2)(cnn)\n",
    "#rnn2 = layers.GRU(150, dropout=0.2)(rnn1)\n",
    "\n",
    "\n",
    "#rnnX = layers.LSTM(300, return_sequences=True, dropout=0.2, recurrent_dropout=0.2)(visible)\n",
    "#rnnY = layers.LSTM(300, dropout=0.2, recurrent_dropout=0.2)(rnnX)\n",
    "\n",
    "#combo = layers.concatenate([rnn2,rnnY])\n",
    "dense = layers.Dense(150, activation='relu')(rnn1)\n",
    "drop = layers.Dropout(0.2)(dense)\n",
    "out = layers.Dense(1, activation='linear')(drop)\n",
    "\n",
    "model = Model(inputs=visible, outputs=out)\n",
    "\n",
    "\n",
    "print(model.summary())\n"
   ]
  },
  {
   "cell_type": "code",
   "execution_count": 8,
   "metadata": {},
   "outputs": [],
   "source": [
    "model.compile(optimizer=tf.keras.optimizers.RMSprop(0.0005),\n",
    "              loss='mse', \n",
    "              metrics=['mae'])\n"
   ]
  },
  {
   "cell_type": "code",
   "execution_count": 9,
   "metadata": {},
   "outputs": [
    {
     "name": "stdout",
     "output_type": "stream",
     "text": [
      "Train on 1740 samples, validate on 374 samples\n",
      "Epoch 1/50\n",
      "1740/1740 [==============================] - 2s 1ms/step - loss: 2523.5773 - mae: 40.7028 - val_loss: 1380.7484 - val_mae: 31.8097\n",
      "Epoch 2/50\n",
      "1740/1740 [==============================] - 2s 1ms/step - loss: 1054.5566 - mae: 27.0748 - val_loss: 577.8769 - val_mae: 19.1540\n",
      "Epoch 3/50\n",
      "1740/1740 [==============================] - 2s 1ms/step - loss: 531.9148 - mae: 18.9725 - val_loss: 363.9250 - val_mae: 16.0978\n",
      "Epoch 4/50\n",
      "1740/1740 [==============================] - 2s 1ms/step - loss: 441.5194 - mae: 16.7334 - val_loss: 337.9132 - val_mae: 15.3019\n",
      "Epoch 5/50\n",
      "1740/1740 [==============================] - 2s 1ms/step - loss: 419.2719 - mae: 15.9969 - val_loss: 418.9008 - val_mae: 17.4157\n",
      "Epoch 6/50\n",
      "1740/1740 [==============================] - 2s 1ms/step - loss: 388.5491 - mae: 15.5412 - val_loss: 275.3643 - val_mae: 13.2702\n",
      "Epoch 7/50\n",
      "1740/1740 [==============================] - 2s 1ms/step - loss: 369.6207 - mae: 14.8585 - val_loss: 324.1022 - val_mae: 15.4064\n",
      "Epoch 8/50\n",
      "1740/1740 [==============================] - 2s 1ms/step - loss: 341.9491 - mae: 14.4521 - val_loss: 271.8605 - val_mae: 13.3724\n",
      "Epoch 9/50\n",
      "1740/1740 [==============================] - 2s 1ms/step - loss: 325.4936 - mae: 14.0558 - val_loss: 281.5293 - val_mae: 12.4345\n",
      "Epoch 10/50\n",
      "1740/1740 [==============================] - 2s 1ms/step - loss: 318.5017 - mae: 13.6397 - val_loss: 220.6640 - val_mae: 11.6139\n",
      "Epoch 11/50\n",
      "1740/1740 [==============================] - 2s 1ms/step - loss: 291.0424 - mae: 12.9926 - val_loss: 232.8913 - val_mae: 12.7739\n",
      "Epoch 12/50\n",
      "1740/1740 [==============================] - 2s 1ms/step - loss: 285.3626 - mae: 13.0153 - val_loss: 182.8568 - val_mae: 10.3613\n",
      "Epoch 13/50\n",
      "1740/1740 [==============================] - 2s 1ms/step - loss: 268.5043 - mae: 12.4593 - val_loss: 224.4813 - val_mae: 10.9378\n",
      "Epoch 14/50\n",
      "1740/1740 [==============================] - 2s 1ms/step - loss: 252.0331 - mae: 11.9788 - val_loss: 197.0382 - val_mae: 11.7997\n",
      "Epoch 15/50\n",
      "1740/1740 [==============================] - 2s 1ms/step - loss: 260.2439 - mae: 12.2285 - val_loss: 239.2105 - val_mae: 11.2751\n",
      "Epoch 16/50\n",
      "1740/1740 [==============================] - 2s 1ms/step - loss: 237.5584 - mae: 11.6477 - val_loss: 272.9876 - val_mae: 11.7030\n",
      "Epoch 17/50\n",
      "1740/1740 [==============================] - 2s 1ms/step - loss: 230.7925 - mae: 11.4786 - val_loss: 248.7302 - val_mae: 13.3585\n",
      "Epoch 18/50\n",
      "1740/1740 [==============================] - 2s 1ms/step - loss: 218.3661 - mae: 11.0754 - val_loss: 169.1835 - val_mae: 10.3324\n",
      "Epoch 19/50\n",
      "1740/1740 [==============================] - 2s 1ms/step - loss: 231.5868 - mae: 11.4245 - val_loss: 170.8626 - val_mae: 10.3963\n",
      "Epoch 20/50\n",
      "1740/1740 [==============================] - 2s 1ms/step - loss: 208.6418 - mae: 10.8347 - val_loss: 176.1187 - val_mae: 10.6776\n",
      "Epoch 21/50\n",
      "1740/1740 [==============================] - 2s 1ms/step - loss: 207.6379 - mae: 10.8529 - val_loss: 184.6362 - val_mae: 10.7037\n",
      "Epoch 22/50\n",
      "1740/1740 [==============================] - 2s 1ms/step - loss: 213.9684 - mae: 10.8571 - val_loss: 162.4193 - val_mae: 10.2206\n",
      "Epoch 23/50\n",
      "1740/1740 [==============================] - 2s 1ms/step - loss: 208.6302 - mae: 10.7643 - val_loss: 210.4617 - val_mae: 10.6812\n",
      "Epoch 24/50\n",
      "1740/1740 [==============================] - 2s 1ms/step - loss: 208.2065 - mae: 10.6838 - val_loss: 188.3483 - val_mae: 10.6507\n",
      "Epoch 25/50\n",
      "1740/1740 [==============================] - 2s 1ms/step - loss: 202.6279 - mae: 10.7044 - val_loss: 168.6490 - val_mae: 10.6618\n",
      "Epoch 26/50\n",
      "1740/1740 [==============================] - 2s 1ms/step - loss: 205.1342 - mae: 10.7396 - val_loss: 180.5087 - val_mae: 10.9822\n",
      "Epoch 27/50\n",
      "1740/1740 [==============================] - 2s 1ms/step - loss: 194.0629 - mae: 10.4204 - val_loss: 294.8754 - val_mae: 14.3874\n",
      "Epoch 28/50\n",
      "1740/1740 [==============================] - 2s 1ms/step - loss: 195.2944 - mae: 10.3923 - val_loss: 198.7789 - val_mae: 10.8164\n",
      "Epoch 29/50\n",
      "1740/1740 [==============================] - 2s 1ms/step - loss: 185.1823 - mae: 10.1483 - val_loss: 170.9730 - val_mae: 10.0466\n",
      "Epoch 30/50\n",
      "1740/1740 [==============================] - 2s 1ms/step - loss: 190.1319 - mae: 10.2448 - val_loss: 165.6463 - val_mae: 10.4969\n",
      "Epoch 31/50\n",
      "1740/1740 [==============================] - 2s 1ms/step - loss: 189.1049 - mae: 10.2145 - val_loss: 189.5548 - val_mae: 11.3403\n",
      "Epoch 32/50\n",
      "1740/1740 [==============================] - 2s 1ms/step - loss: 192.1548 - mae: 10.3519 - val_loss: 189.0901 - val_mae: 11.3150\n",
      "Epoch 33/50\n",
      "1740/1740 [==============================] - 2s 1ms/step - loss: 193.7631 - mae: 10.3118 - val_loss: 159.4476 - val_mae: 9.9777\n",
      "Epoch 34/50\n",
      "1740/1740 [==============================] - 2s 1ms/step - loss: 179.9136 - mae: 10.0628 - val_loss: 231.2173 - val_mae: 12.4173\n",
      "Epoch 35/50\n",
      "1740/1740 [==============================] - 2s 1ms/step - loss: 174.8789 - mae: 9.8207 - val_loss: 172.1887 - val_mae: 10.5770\n",
      "Epoch 36/50\n",
      "1740/1740 [==============================] - 2s 1ms/step - loss: 191.2778 - mae: 10.2549 - val_loss: 187.2565 - val_mae: 11.1573\n",
      "Epoch 37/50\n",
      "1740/1740 [==============================] - 2s 1ms/step - loss: 188.1217 - mae: 10.1319 - val_loss: 159.9547 - val_mae: 9.9701\n",
      "Epoch 38/50\n",
      "1740/1740 [==============================] - 2s 1ms/step - loss: 188.9086 - mae: 10.1474 - val_loss: 196.7740 - val_mae: 11.5751\n",
      "Epoch 39/50\n",
      "1740/1740 [==============================] - 2s 1ms/step - loss: 180.1974 - mae: 9.9820 - val_loss: 152.1117 - val_mae: 9.8327\n",
      "Epoch 40/50\n",
      "1740/1740 [==============================] - 2s 1ms/step - loss: 182.7563 - mae: 10.0713 - val_loss: 168.8438 - val_mae: 10.1661\n",
      "Epoch 41/50\n",
      "1740/1740 [==============================] - 2s 1ms/step - loss: 180.0806 - mae: 10.0125 - val_loss: 184.2732 - val_mae: 11.3338\n",
      "Epoch 42/50\n",
      "1740/1740 [==============================] - 2s 1ms/step - loss: 177.2291 - mae: 9.9854 - val_loss: 157.9293 - val_mae: 10.0294\n",
      "Epoch 43/50\n",
      "1740/1740 [==============================] - 2s 1ms/step - loss: 176.3004 - mae: 9.8432 - val_loss: 153.9544 - val_mae: 9.7004\n",
      "Epoch 44/50\n",
      "1740/1740 [==============================] - 2s 1ms/step - loss: 165.8943 - mae: 9.4926 - val_loss: 167.4490 - val_mae: 10.2626\n",
      "Epoch 45/50\n",
      "1740/1740 [==============================] - 2s 1ms/step - loss: 169.5952 - mae: 9.8001 - val_loss: 158.6651 - val_mae: 10.0183\n",
      "Epoch 46/50\n",
      "1740/1740 [==============================] - 2s 1ms/step - loss: 179.8192 - mae: 9.9997 - val_loss: 163.1780 - val_mae: 9.8166\n",
      "Epoch 47/50\n",
      "1740/1740 [==============================] - 2s 1ms/step - loss: 181.3545 - mae: 9.8941 - val_loss: 213.7509 - val_mae: 11.7804\n",
      "Epoch 48/50\n",
      "1740/1740 [==============================] - 2s 1ms/step - loss: 176.5121 - mae: 9.8721 - val_loss: 162.9453 - val_mae: 10.2334\n",
      "Epoch 49/50\n",
      "1740/1740 [==============================] - 2s 1ms/step - loss: 168.8120 - mae: 9.5263 - val_loss: 167.8282 - val_mae: 10.4305\n",
      "Epoch 50/50\n",
      "1740/1740 [==============================] - 2s 1ms/step - loss: 172.1201 - mae: 9.6660 - val_loss: 182.0659 - val_mae: 10.8107\n"
     ]
    }
   ],
   "source": [
    "history = model.fit(dataSplitTrain, targetSplitTrain, epochs=50, verbose=1, validation_data=(dataSplitVal,targetSplitVal))"
   ]
  },
  {
   "cell_type": "code",
   "execution_count": 10,
   "metadata": {},
   "outputs": [
    {
     "name": "stdout",
     "output_type": "stream",
     "text": [
      "368/368 [==============================] - 0s 364us/step\n"
     ]
    },
    {
     "data": {
      "text/plain": [
       "[204.46861963686734, 11.902811050415039]"
      ]
     },
     "execution_count": 10,
     "metadata": {},
     "output_type": "execute_result"
    }
   ],
   "source": [
    "model.evaluate(dataSplitTest, targetSplitTest)"
   ]
  },
  {
   "cell_type": "code",
   "execution_count": null,
   "metadata": {},
   "outputs": [],
   "source": [
    "#Save model\n",
    "model_json = model.to_json()\n",
    "with open(\"savedStates/model.json\", \"w\") as json_file:\n",
    "    json_file.write(model_json)\n",
    "# serialize weights to HDF5\n",
    "model.save_weights(\"savedStates/model.h5\")\n",
    "print(\"Saved model to disk\")\n"
   ]
  },
  {
   "cell_type": "code",
   "execution_count": 12,
   "metadata": {},
   "outputs": [
    {
     "data": {
      "image/png": "[encoded data removed]",
      "text/plain": [
       "<Figure size 1080x1080 with 1 Axes>"
      ]
     },
     "metadata": {
      "needs_background": "light"
     },
     "output_type": "display_data"
    }
   ],
   "source": [
    "#Get history graph\n",
    "import matplotlib\n",
    "fig = plt.gcf()\n",
    "fig.set_size_inches(15, 15)\n",
    "plt.plot(history.history['mae'])\n",
    "plt.plot(history.history['val_mae'])\n",
    "plt.title('Mean Absolute Error over time')\n",
    "plt.ylabel('MAE(Cycles)')\n",
    "plt.xlabel('Epoch')\n",
    "plt.legend(['Train', 'Validation'], loc='upper left')\n",
    "\n",
    "font = {\n",
    "        'weight' : 'bold',\n",
    "        'size'   : 25}\n",
    "\n",
    "matplotlib.rc('font', **font)\n",
    "\n",
    "\n",
    "\n",
    "plt.savefig('FinalMAE.png',  bbox_inches='tight')"
   ]
  },
  {
   "cell_type": "code",
   "execution_count": null,
   "metadata": {},
   "outputs": [],
   "source": []
  },
  {
   "cell_type": "code",
   "execution_count": null,
   "metadata": {},
   "outputs": [],
   "source": []
  },
  {
   "cell_type": "code",
   "execution_count": 14,
   "metadata": {},
   "outputs": [],
   "source": [
    "#model.predict(dataSplitVal)"
   ]
  },
  {
   "cell_type": "code",
   "execution_count": null,
   "metadata": {},
   "outputs": [],
   "source": []
  }
 ],
 "metadata": {
  "kernelspec": {
   "display_name": "Python 3",
   "language": "python",
   "name": "python3"
  },
  "language_info": {
   "codemirror_mode": {
    "name": "ipython",
    "version": 3
   },
   "file_extension": ".py",
   "mimetype": "text/x-python",
   "name": "python",
   "nbconvert_exporter": "python",
   "pygments_lexer": "ipython3",
   "version": "3.7.5"
  }
 },
 "nbformat": 4,
 "nbformat_minor": 4
}
