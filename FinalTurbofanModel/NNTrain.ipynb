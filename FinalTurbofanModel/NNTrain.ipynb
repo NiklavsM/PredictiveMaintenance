{
 "cells": [
  {
   "cell_type": "code",
   "execution_count": 1,
   "metadata": {},
   "outputs": [
    {
     "name": "stderr",
     "output_type": "stream",
     "text": [
      "Using TensorFlow backend.\n"
     ]
    }
   ],
   "source": [
    "# Adding all needed imports\n",
    "\n",
    "import tensorflow as tf\n",
    "from tensorflow import keras\n",
    "from keras import regularizers\n",
    "from keras import layers\n",
    "from keras.models import Model\n",
    "#print(tf.keras.__version__)\n",
    "#print(tf.__version__)\n",
    "\n",
    "import numpy as np\n",
    "import pandas as pd\n",
    "import matplotlib.pyplot as plt\n",
    "import seaborn as sns\n",
    "import math as mt\n",
    "import random as rng\n",
    "\n",
    "from sklearn import preprocessing"
   ]
  },
  {
   "cell_type": "code",
   "execution_count": 2,
   "metadata": {},
   "outputs": [
    {
     "name": "stdout",
     "output_type": "stream",
     "text": [
      "151\n",
      "151\n",
      "80\n",
      "80\n"
     ]
    }
   ],
   "source": [
    "dataTrain = np.load(\"dataFormatted/finished/stTrain.npy\", allow_pickle=True)\n",
    "targetTrain = np.load(\"dataFormatted/finished/stTrainTarget.npy\", allow_pickle=True)\n",
    "\n",
    "\n",
    "dataVal = np.load(\"dataFormatted/finished/stVal.npy\", allow_pickle=True)\n",
    "targetVal = np.load(\"dataFormatted/finished/stValTarget.npy\", allow_pickle=True)\n",
    "\n",
    "\n",
    "print(len(dataTrain[0]))\n",
    "print(len(targetTrain[0]))\n",
    "print(len(dataTrain))\n",
    "print(len(targetTrain))"
   ]
  },
  {
   "cell_type": "code",
   "execution_count": 3,
   "metadata": {},
   "outputs": [],
   "source": [
    "numRows = 30\n",
    "step = 15\n",
    "\n",
    "\n",
    "\n",
    "def finalSplit(data, targets, numRows, step):\n",
    "    div = int(numRows/2)\n",
    "    splits = []\n",
    "    splitsTarget = []\n",
    "    for each in range(len(data)):\n",
    "        run = data[each]\n",
    "        target = targets[each]\n",
    "        for i in range(div, len(target) - div, step):\n",
    "            split = []\n",
    "            RUL = 0\n",
    "            for j in range(-div,div):\n",
    "                index = i + j\n",
    "                element = run[index].copy()\n",
    "                RUL = target[index]\n",
    "                split.append(element)\n",
    "            splits.append(split)\n",
    "            splitsTarget.append(RUL)\n",
    "            \n",
    "    return splits, splitsTarget"
   ]
  },
  {
   "cell_type": "code",
   "execution_count": 4,
   "metadata": {},
   "outputs": [
    {
     "name": "stdout",
     "output_type": "stream",
     "text": [
      "711\n",
      "180\n"
     ]
    }
   ],
   "source": [
    "dataSplitTrain, targetSplitTrain = finalSplit(dataTrain, targetTrain, numRows, step)\n",
    "dataSplitVal, targetSplitVal = finalSplit(dataVal, targetVal, numRows, step)\n",
    "\n",
    "\n",
    "print(len(dataSplitTrain))\n",
    "print(len(dataSplitVal))"
   ]
  },
  {
   "cell_type": "code",
   "execution_count": 5,
   "metadata": {},
   "outputs": [
    {
     "name": "stdout",
     "output_type": "stream",
     "text": [
      "10\n"
     ]
    }
   ],
   "source": [
    "dataSplitTrain = np.array(dataSplitTrain)\n",
    "targetSplitTrain = np.array(targetSplitTrain)\n",
    "dataSplitVal = np.array(dataSplitVal)\n",
    "targetSplitVal = np.array(targetSplitVal)\n",
    "\n",
    "\n",
    "\n",
    "width = len(dataSplitTrain[0][0])\n",
    "print(width)"
   ]
  },
  {
   "cell_type": "code",
   "execution_count": 6,
   "metadata": {},
   "outputs": [
    {
     "name": "stdout",
     "output_type": "stream",
     "text": [
      "Model: \"model_1\"\n",
      "_________________________________________________________________\n",
      "Layer (type)                 Output Shape              Param #   \n",
      "=================================================================\n",
      "input_1 (InputLayer)         (None, 30, 10)            0         \n",
      "_________________________________________________________________\n",
      "conv1d_1 (Conv1D)            (None, 28, 10)            310       \n",
      "_________________________________________________________________\n",
      "gru_1 (GRU)                  (None, 150)               72450     \n",
      "_________________________________________________________________\n",
      "dense_1 (Dense)              (None, 150)               22650     \n",
      "_________________________________________________________________\n",
      "dropout_1 (Dropout)          (None, 150)               0         \n",
      "_________________________________________________________________\n",
      "dense_2 (Dense)              (None, 1)                 151       \n",
      "=================================================================\n",
      "Total params: 95,561\n",
      "Trainable params: 95,561\n",
      "Non-trainable params: 0\n",
      "_________________________________________________________________\n",
      "None\n"
     ]
    }
   ],
   "source": [
    "visible = layers.Input(shape=(numRows, width,))\n",
    "\n",
    "cnn = layers.Conv1D(width, 3, activation='relu')(visible)\n",
    "rnn1 = layers.GRU(150, dropout=0.2)(cnn)\n",
    "#rnn2 = layers.GRU(150, dropout=0.2)(rnn1)\n",
    "\n",
    "\n",
    "#rnnX = layers.LSTM(300, return_sequences=True, dropout=0.2, recurrent_dropout=0.2)(visible)\n",
    "#rnnY = layers.LSTM(300, dropout=0.2, recurrent_dropout=0.2)(rnnX)\n",
    "\n",
    "#combo = layers.concatenate([rnn2,rnnY])\n",
    "dense = layers.Dense(150, activation='relu')(rnn1)\n",
    "drop = layers.Dropout(0.2)(dense)\n",
    "out = layers.Dense(1, activation='linear')(drop)\n",
    "\n",
    "model = Model(inputs=visible, outputs=out)\n",
    "\n",
    "\n",
    "print(model.summary())\n"
   ]
  },
  {
   "cell_type": "code",
   "execution_count": 7,
   "metadata": {},
   "outputs": [],
   "source": [
    "model.compile(optimizer='adam',\n",
    "              loss='mse', \n",
    "              metrics=['mae'])\n"
   ]
  },
  {
   "cell_type": "code",
   "execution_count": 8,
   "metadata": {},
   "outputs": [
    {
     "name": "stdout",
     "output_type": "stream",
     "text": [
      "Train on 711 samples, validate on 180 samples\n",
      "Epoch 1/50\n",
      "711/711 [==============================] - 2s 2ms/step - loss: 4317.0364 - mae: 54.4720 - val_loss: 2352.7849 - val_mae: 39.7267\n",
      "Epoch 2/50\n",
      "711/711 [==============================] - 1s 1ms/step - loss: 1715.6021 - mae: 34.9186 - val_loss: 1520.9804 - val_mae: 33.8449\n",
      "Epoch 3/50\n",
      "711/711 [==============================] - 1s 1ms/step - loss: 1456.0091 - mae: 32.9710 - val_loss: 1477.6971 - val_mae: 33.1152\n",
      "Epoch 4/50\n",
      "711/711 [==============================] - 1s 1ms/step - loss: 1450.8732 - mae: 32.9265 - val_loss: 1419.2475 - val_mae: 32.5236\n",
      "Epoch 5/50\n",
      "711/711 [==============================] - 1s 1ms/step - loss: 1330.1152 - mae: 31.5563 - val_loss: 1209.5934 - val_mae: 30.3483\n",
      "Epoch 6/50\n",
      "711/711 [==============================] - 1s 1ms/step - loss: 956.2823 - mae: 26.4377 - val_loss: 739.3863 - val_mae: 22.0578\n",
      "Epoch 7/50\n",
      "711/711 [==============================] - 1s 1ms/step - loss: 542.4508 - mae: 19.1961 - val_loss: 460.8443 - val_mae: 17.1382\n",
      "Epoch 8/50\n",
      "711/711 [==============================] - 1s 1ms/step - loss: 423.0570 - mae: 16.3782 - val_loss: 419.8020 - val_mae: 16.2163\n",
      "Epoch 9/50\n",
      "711/711 [==============================] - 1s 1ms/step - loss: 381.4205 - mae: 15.5766 - val_loss: 372.2642 - val_mae: 15.4739\n",
      "Epoch 10/50\n",
      "711/711 [==============================] - 1s 1ms/step - loss: 372.3558 - mae: 15.2077 - val_loss: 423.0516 - val_mae: 15.7173\n",
      "Epoch 11/50\n",
      "711/711 [==============================] - 1s 1ms/step - loss: 370.5312 - mae: 15.2164 - val_loss: 355.4839 - val_mae: 14.6854\n",
      "Epoch 12/50\n",
      "711/711 [==============================] - 1s 1ms/step - loss: 346.2577 - mae: 14.2382 - val_loss: 457.3339 - val_mae: 15.7252\n",
      "Epoch 13/50\n",
      "711/711 [==============================] - 1s 1ms/step - loss: 359.5341 - mae: 14.6394 - val_loss: 309.2433 - val_mae: 13.9903\n",
      "Epoch 14/50\n",
      "711/711 [==============================] - 1s 1ms/step - loss: 336.3440 - mae: 14.0689 - val_loss: 409.6180 - val_mae: 15.0842\n",
      "Epoch 15/50\n",
      "711/711 [==============================] - 1s 1ms/step - loss: 367.1387 - mae: 14.7223 - val_loss: 321.6521 - val_mae: 13.9369\n",
      "Epoch 16/50\n",
      "711/711 [==============================] - 1s 1ms/step - loss: 366.9459 - mae: 15.1305 - val_loss: 288.3277 - val_mae: 13.6314\n",
      "Epoch 17/50\n",
      "711/711 [==============================] - 1s 1ms/step - loss: 339.2499 - mae: 14.1783 - val_loss: 359.8869 - val_mae: 14.0849\n",
      "Epoch 18/50\n",
      "711/711 [==============================] - 1s 1ms/step - loss: 300.7239 - mae: 13.4316 - val_loss: 293.7793 - val_mae: 13.2319\n",
      "Epoch 19/50\n",
      "711/711 [==============================] - 1s 1ms/step - loss: 315.4996 - mae: 13.4631 - val_loss: 263.6750 - val_mae: 12.6641\n",
      "Epoch 20/50\n",
      "711/711 [==============================] - 1s 1ms/step - loss: 302.8786 - mae: 13.5424 - val_loss: 253.1999 - val_mae: 12.2849\n",
      "Epoch 21/50\n",
      "711/711 [==============================] - 1s 1ms/step - loss: 322.3739 - mae: 13.7376 - val_loss: 262.2192 - val_mae: 13.2768\n",
      "Epoch 22/50\n",
      "711/711 [==============================] - 1s 1ms/step - loss: 304.6070 - mae: 13.1623 - val_loss: 255.3134 - val_mae: 12.4052\n",
      "Epoch 23/50\n",
      "711/711 [==============================] - 1s 1ms/step - loss: 277.1132 - mae: 12.7861 - val_loss: 278.8993 - val_mae: 12.8669\n",
      "Epoch 24/50\n",
      "711/711 [==============================] - 1s 1ms/step - loss: 271.0960 - mae: 12.3818 - val_loss: 287.0862 - val_mae: 12.5465\n",
      "Epoch 25/50\n",
      "711/711 [==============================] - 1s 1ms/step - loss: 279.5062 - mae: 12.4670 - val_loss: 229.8900 - val_mae: 11.6638\n",
      "Epoch 26/50\n",
      "711/711 [==============================] - 1s 1ms/step - loss: 265.1042 - mae: 12.3036 - val_loss: 265.1613 - val_mae: 12.5877\n",
      "Epoch 27/50\n",
      "711/711 [==============================] - 1s 1ms/step - loss: 280.3317 - mae: 12.9215 - val_loss: 250.4295 - val_mae: 11.9470\n",
      "Epoch 28/50\n",
      "711/711 [==============================] - 1s 1ms/step - loss: 265.9080 - mae: 12.4719 - val_loss: 279.1122 - val_mae: 12.3241\n",
      "Epoch 29/50\n",
      "711/711 [==============================] - 1s 1ms/step - loss: 264.0319 - mae: 12.4906 - val_loss: 256.4504 - val_mae: 12.4991\n",
      "Epoch 30/50\n",
      "711/711 [==============================] - 1s 1ms/step - loss: 262.0366 - mae: 12.3049 - val_loss: 206.8151 - val_mae: 11.7562\n",
      "Epoch 31/50\n",
      "711/711 [==============================] - 1s 1ms/step - loss: 249.7138 - mae: 12.0588 - val_loss: 295.1667 - val_mae: 12.5678\n",
      "Epoch 32/50\n",
      "711/711 [==============================] - 1s 1ms/step - loss: 224.6183 - mae: 11.0630 - val_loss: 189.5818 - val_mae: 10.0681\n",
      "Epoch 33/50\n",
      "711/711 [==============================] - 1s 1ms/step - loss: 230.2894 - mae: 11.4064 - val_loss: 173.2657 - val_mae: 10.0663\n",
      "Epoch 34/50\n",
      "711/711 [==============================] - 1s 1ms/step - loss: 256.5655 - mae: 12.0565 - val_loss: 248.0043 - val_mae: 12.1248\n",
      "Epoch 35/50\n",
      "711/711 [==============================] - 1s 1ms/step - loss: 233.4967 - mae: 11.6158 - val_loss: 189.3145 - val_mae: 10.1798\n",
      "Epoch 36/50\n",
      "711/711 [==============================] - 1s 1ms/step - loss: 212.7239 - mae: 10.8016 - val_loss: 198.5484 - val_mae: 10.8228\n",
      "Epoch 37/50\n",
      "711/711 [==============================] - 1s 1ms/step - loss: 233.7384 - mae: 11.4801 - val_loss: 286.0322 - val_mae: 13.3585\n",
      "Epoch 38/50\n",
      "711/711 [==============================] - 1s 1ms/step - loss: 299.1146 - mae: 13.6808 - val_loss: 447.3491 - val_mae: 15.4600\n",
      "Epoch 39/50\n",
      "711/711 [==============================] - 1s 1ms/step - loss: 280.8511 - mae: 12.9369 - val_loss: 335.4474 - val_mae: 12.5314\n",
      "Epoch 40/50\n",
      "711/711 [==============================] - 1s 1ms/step - loss: 246.0416 - mae: 11.9933 - val_loss: 330.6155 - val_mae: 12.9229\n",
      "Epoch 41/50\n",
      "711/711 [==============================] - 1s 1ms/step - loss: 237.1593 - mae: 11.8379 - val_loss: 213.1424 - val_mae: 11.6245\n",
      "Epoch 42/50\n",
      "711/711 [==============================] - 1s 1ms/step - loss: 235.1334 - mae: 11.8619 - val_loss: 195.7884 - val_mae: 10.7072\n",
      "Epoch 43/50\n",
      "711/711 [==============================] - 1s 1ms/step - loss: 236.6438 - mae: 11.6606 - val_loss: 279.0278 - val_mae: 11.8953\n",
      "Epoch 44/50\n",
      "711/711 [==============================] - 1s 1ms/step - loss: 237.4682 - mae: 11.6062 - val_loss: 167.4486 - val_mae: 10.1312\n",
      "Epoch 45/50\n",
      "711/711 [==============================] - 1s 1ms/step - loss: 229.2551 - mae: 11.4882 - val_loss: 175.0920 - val_mae: 10.5180\n",
      "Epoch 46/50\n",
      "711/711 [==============================] - 1s 1ms/step - loss: 198.2125 - mae: 10.5098 - val_loss: 194.8342 - val_mae: 10.5140\n",
      "Epoch 47/50\n",
      "711/711 [==============================] - 1s 1ms/step - loss: 234.2847 - mae: 11.5348 - val_loss: 170.4189 - val_mae: 9.9091\n",
      "Epoch 48/50\n",
      "711/711 [==============================] - 1s 1ms/step - loss: 221.6379 - mae: 11.1642 - val_loss: 169.2378 - val_mae: 10.3197\n",
      "Epoch 49/50\n",
      "711/711 [==============================] - 1s 1ms/step - loss: 200.9998 - mae: 10.5718 - val_loss: 189.2097 - val_mae: 11.0076\n",
      "Epoch 50/50\n",
      "711/711 [==============================] - 1s 1ms/step - loss: 201.0113 - mae: 10.4238 - val_loss: 174.3213 - val_mae: 10.0018\n"
     ]
    },
    {
     "data": {
      "text/plain": [
       "<keras.callbacks.callbacks.History at 0x251ed459ec8>"
      ]
     },
     "execution_count": 8,
     "metadata": {},
     "output_type": "execute_result"
    }
   ],
   "source": [
    "model.fit(dataSplitTrain, targetSplitTrain, epochs=50, verbose=1, validation_data=(dataSplitVal,targetSplitVal))"
   ]
  },
  {
   "cell_type": "code",
   "execution_count": null,
   "metadata": {},
   "outputs": [],
   "source": [
    "model_json = model.to_json()\n",
    "with open(\"./model.json\", \"w\") as json_file:\n",
    "    json_file.write(model_json)\n",
    "# serialize weights to HDF5\n",
    "model.save_weights(\"model.h5\")\n",
    "print(\"Saved model to disk\")\n"
   ]
  },
  {
   "cell_type": "code",
   "execution_count": 13,
   "metadata": {},
   "outputs": [],
   "source": [
    "np.save(\"./valData.npy\", simsTest)\n",
    "np.save(\"./valTarget.npy\", targetTest)"
   ]
  },
  {
   "cell_type": "code",
   "execution_count": null,
   "metadata": {},
   "outputs": [],
   "source": []
  }
 ],
 "metadata": {
  "kernelspec": {
   "display_name": "Python 3",
   "language": "python",
   "name": "python3"
  },
  "language_info": {
   "codemirror_mode": {
    "name": "ipython",
    "version": 3
   },
   "file_extension": ".py",
   "mimetype": "text/x-python",
   "name": "python",
   "nbconvert_exporter": "python",
   "pygments_lexer": "ipython3",
   "version": "3.7.4"
  }
 },
 "nbformat": 4,
 "nbformat_minor": 4
}
