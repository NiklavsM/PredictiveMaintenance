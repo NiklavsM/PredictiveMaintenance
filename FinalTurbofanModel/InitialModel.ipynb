{
 "cells": [
  {
   "cell_type": "code",
   "execution_count": 1,
   "metadata": {},
   "outputs": [],
   "source": [
    "import tensorflow as tf\n",
    "from tensorflow import keras"
   ]
  },
  {
   "cell_type": "code",
   "execution_count": 2,
   "metadata": {},
   "outputs": [
    {
     "name": "stdout",
     "output_type": "stream",
     "text": [
      "2.2.4-tf\n",
      "2.0.0\n"
     ]
    }
   ],
   "source": [
    "print(tf.keras.__version__)\n",
    "print(tf.__version__)"
   ]
  },
  {
   "cell_type": "code",
   "execution_count": 3,
   "metadata": {},
   "outputs": [],
   "source": [
    "import numpy as np\n",
    "import pandas as pd\n",
    "import matplotlib.pyplot as plt\n",
    "import matplotlib\n",
    "import seaborn as sns\n",
    "import math as mt\n",
    "from sklearn import preprocessing"
   ]
  },
  {
   "cell_type": "markdown",
   "metadata": {},
   "source": [
    "Func to fix the columns of the dataframe"
   ]
  },
  {
   "cell_type": "code",
   "execution_count": 4,
   "metadata": {},
   "outputs": [],
   "source": [
    "def getColumns(size):\n",
    "    columns = []\n",
    "    for i in range(size):\n",
    "        columns.append(i)\n",
    "    return columns"
   ]
  },
  {
   "cell_type": "markdown",
   "metadata": {},
   "source": [
    "Load the CMAPSS dataset"
   ]
  },
  {
   "cell_type": "code",
   "execution_count": 5,
   "metadata": {},
   "outputs": [],
   "source": [
    "directory = \"./CMAPSSData/train_FD001.txt\"\n",
    "turbo = pd.read_csv(directory, header=None, sep=' ')\n",
    "turbo = turbo.drop([26, 27], axis=1)"
   ]
  },
  {
   "cell_type": "markdown",
   "metadata": {},
   "source": [
    "Drop the input variable columns, the simulation number and the cycle number columns"
   ]
  },
  {
   "cell_type": "code",
   "execution_count": 6,
   "metadata": {},
   "outputs": [],
   "source": [
    "# Drop the input parameters to get just the sensors\n",
    "turboSens = turbo.drop([0,1,2,3,4], axis=1)\n",
    "turboSens.columns = getColumns(turboSens.shape[1])"
   ]
  },
  {
   "cell_type": "markdown",
   "metadata": {},
   "source": [
    "Drop the columns which never change values"
   ]
  },
  {
   "cell_type": "code",
   "execution_count": 7,
   "metadata": {},
   "outputs": [],
   "source": [
    "# Get the cycles and useful sensors. \n",
    "turboUsefulSens = turboSens.drop([0, 9, 17, 18], axis=1)"
   ]
  },
  {
   "cell_type": "markdown",
   "metadata": {},
   "source": [
    "Create scalers to normalise or standardise the data"
   ]
  },
  {
   "cell_type": "code",
   "execution_count": 8,
   "metadata": {},
   "outputs": [],
   "source": [
    "min_max_scaler = preprocessing.MinMaxScaler()\n",
    "norm_sens = min_max_scaler.fit_transform(turboUsefulSens)\n",
    "\n",
    "standard = preprocessing.StandardScaler()\n",
    "std_sens = standard.fit_transform(turboUsefulSens)"
   ]
  },
  {
   "cell_type": "markdown",
   "metadata": {},
   "source": [
    "Get the cycle column to be used as the labels\n",
    "The row values are flipped to become remaining useful life\n",
    "(ie. if cycle number is 100 and the simulation ran for 150 cycles, the RUL label would be 50)"
   ]
  },
  {
   "cell_type": "code",
   "execution_count": 10,
   "metadata": {},
   "outputs": [],
   "source": [
    "turboCycles = turbo[1]\n",
    "deteriorate = []\n",
    "maxCycle = float(turboCycles.max())"
   ]
  },
  {
   "cell_type": "code",
   "execution_count": 11,
   "metadata": {},
   "outputs": [],
   "source": [
    "currentCount = maxCycle\n",
    "for i in range(turbo.shape[0] - 1, -1, -1):\n",
    "    currentRow = turboCycles.loc[i]\n",
    "    deteriorate.insert(0, currentCount)\n",
    "    if currentRow == 1:\n",
    "        currentCount = maxCycle\n",
    "    else:\n",
    "        currentCount -= 1"
   ]
  },
  {
   "cell_type": "code",
   "execution_count": 12,
   "metadata": {},
   "outputs": [],
   "source": [
    "deteriorate = pd.DataFrame(deteriorate)"
   ]
  },
  {
   "cell_type": "code",
   "execution_count": 13,
   "metadata": {},
   "outputs": [],
   "source": [
    "deteriorateSwap = []\n",
    "for i in deteriorate[0]:\n",
    "    deteriorateSwap.append(maxCycle - i)\n",
    "deteriorate = pd.DataFrame(deteriorateSwap)\n"
   ]
  },
  {
   "cell_type": "markdown",
   "metadata": {},
   "source": [
    "Join the data temporarily to randomise it then seperate it"
   ]
  },
  {
   "cell_type": "code",
   "execution_count": 14,
   "metadata": {},
   "outputs": [],
   "source": [
    "norm_sens = pd.DataFrame(norm_sens)\n",
    "deteriorate = deteriorate.join(norm_sens, lsuffix='0', rsuffix='1')\n",
    "\n",
    "deteriorate = deteriorate.sample(frac=1)\n",
    "\n",
    "deteriorate.columns = getColumns(deteriorate.shape[1])"
   ]
  },
  {
   "cell_type": "code",
   "execution_count": 15,
   "metadata": {},
   "outputs": [],
   "source": [
    "norm_sens = deteriorate.drop(0, axis=1)\n",
    "norm_sens = norm_sens.to_numpy()\n",
    "deteriorate = deteriorate[0].to_numpy()"
   ]
  },
  {
   "cell_type": "markdown",
   "metadata": {},
   "source": [
    "Creating the model, compiling it and calling the fit function. The data has an 80/20 train/validation split"
   ]
  },
  {
   "cell_type": "code",
   "execution_count": 16,
   "metadata": {},
   "outputs": [],
   "source": [
    "model = tf.keras.models.Sequential([\n",
    "    tf.keras.layers.Dense(64, activation='relu'),\n",
    "    tf.keras.layers.Dense(64, activation='relu'),\n",
    "    tf.keras.layers.Dense(1)\n",
    "])\n"
   ]
  },
  {
   "cell_type": "code",
   "execution_count": 17,
   "metadata": {},
   "outputs": [],
   "source": [
    "model.compile(optimizer=tf.keras.optimizers.RMSprop(0.001),\n",
    "              loss='mse', \n",
    "              metrics=['mae'])"
   ]
  },
  {
   "cell_type": "code",
   "execution_count": 18,
   "metadata": {},
   "outputs": [
    {
     "name": "stdout",
     "output_type": "stream",
     "text": [
      "Train on 16504 samples, validate on 4127 samples\n",
      "Epoch 1/50\n",
      "16504/16504 [==============================] - 1s 86us/sample - loss: 5786.4022 - mae: 58.4789 - val_loss: 2168.7871 - val_mae: 34.7800\n",
      "Epoch 2/50\n",
      "16504/16504 [==============================] - 1s 36us/sample - loss: 2021.2516 - mae: 33.6559 - val_loss: 1978.6758 - val_mae: 33.2874\n",
      "Epoch 3/50\n",
      "16504/16504 [==============================] - 1s 36us/sample - loss: 1921.9192 - mae: 32.4582 - val_loss: 1919.7707 - val_mae: 32.4990\n",
      "Epoch 4/50\n",
      "16504/16504 [==============================] - 1s 36us/sample - loss: 1876.9373 - mae: 31.8823 - val_loss: 1887.9432 - val_mae: 32.0570\n",
      "Epoch 5/50\n",
      "16504/16504 [==============================] - 1s 34us/sample - loss: 1853.3026 - mae: 31.4836 - val_loss: 1870.2035 - val_mae: 31.8779\n",
      "Epoch 6/50\n",
      "16504/16504 [==============================] - 1s 35us/sample - loss: 1837.2291 - mae: 31.2861 - val_loss: 1860.8399 - val_mae: 31.4531\n",
      "Epoch 7/50\n",
      "16504/16504 [==============================] - 1s 38us/sample - loss: 1826.8329 - mae: 31.1123 - val_loss: 1849.8201 - val_mae: 31.5667\n",
      "Epoch 8/50\n",
      "16504/16504 [==============================] - 1s 37us/sample - loss: 1816.9384 - mae: 30.9105 - val_loss: 1847.0613 - val_mae: 31.5579\n",
      "Epoch 9/50\n",
      "16504/16504 [==============================] - 1s 37us/sample - loss: 1805.7455 - mae: 30.7460 - val_loss: 1850.1449 - val_mae: 30.7687\n",
      "Epoch 10/50\n",
      "16504/16504 [==============================] - 1s 38us/sample - loss: 1795.5514 - mae: 30.5382 - val_loss: 1832.6873 - val_mae: 31.2067\n",
      "Epoch 11/50\n",
      "16504/16504 [==============================] - 1s 35us/sample - loss: 1790.0116 - mae: 30.3475 - val_loss: 1814.1824 - val_mae: 30.8038\n",
      "Epoch 12/50\n",
      "16504/16504 [==============================] - 1s 35us/sample - loss: 1778.9429 - mae: 30.2348 - val_loss: 1804.5534 - val_mae: 30.6556\n",
      "Epoch 13/50\n",
      "16504/16504 [==============================] - 1s 34us/sample - loss: 1773.8928 - mae: 30.1022 - val_loss: 1797.0823 - val_mae: 30.2668\n",
      "Epoch 14/50\n",
      "16504/16504 [==============================] - 1s 36us/sample - loss: 1764.2422 - mae: 29.9719 - val_loss: 1805.8631 - val_mae: 30.9100\n",
      "Epoch 15/50\n",
      "16504/16504 [==============================] - 1s 35us/sample - loss: 1758.7026 - mae: 29.9313 - val_loss: 1801.3578 - val_mae: 30.7241\n",
      "Epoch 16/50\n",
      "16504/16504 [==============================] - 1s 37us/sample - loss: 1757.4603 - mae: 29.8908 - val_loss: 1819.7404 - val_mae: 31.2111\n",
      "Epoch 17/50\n",
      "16504/16504 [==============================] - 1s 42us/sample - loss: 1751.7626 - mae: 29.8542 - val_loss: 1846.1967 - val_mae: 31.8318\n",
      "Epoch 18/50\n",
      "16504/16504 [==============================] - 1s 40us/sample - loss: 1748.8191 - mae: 29.7728 - val_loss: 1787.2738 - val_mae: 30.6449\n",
      "Epoch 19/50\n",
      "16504/16504 [==============================] - 1s 38us/sample - loss: 1744.4593 - mae: 29.7740 - val_loss: 1780.0218 - val_mae: 30.6512\n",
      "Epoch 20/50\n",
      "16504/16504 [==============================] - 1s 38us/sample - loss: 1740.7785 - mae: 29.6885 - val_loss: 1782.2063 - val_mae: 29.7867\n",
      "Epoch 21/50\n",
      "16504/16504 [==============================] - 1s 36us/sample - loss: 1736.8446 - mae: 29.6869 - val_loss: 1779.0826 - val_mae: 29.8499\n",
      "Epoch 22/50\n",
      "16504/16504 [==============================] - 1s 38us/sample - loss: 1735.5806 - mae: 29.6474 - val_loss: 1760.0041 - val_mae: 29.8161\n",
      "Epoch 23/50\n",
      "16504/16504 [==============================] - 1s 36us/sample - loss: 1729.5909 - mae: 29.6110 - val_loss: 1756.9937 - val_mae: 29.8528\n",
      "Epoch 24/50\n",
      "16504/16504 [==============================] - 1s 35us/sample - loss: 1728.2228 - mae: 29.5655 - val_loss: 1754.5275 - val_mae: 29.9675\n",
      "Epoch 25/50\n",
      "16504/16504 [==============================] - 1s 36us/sample - loss: 1726.1427 - mae: 29.5778 - val_loss: 1752.5796 - val_mae: 29.9228\n",
      "Epoch 26/50\n",
      "16504/16504 [==============================] - 1s 34us/sample - loss: 1723.2608 - mae: 29.5618 - val_loss: 1768.5985 - val_mae: 30.4869\n",
      "Epoch 27/50\n",
      "16504/16504 [==============================] - 1s 35us/sample - loss: 1721.5474 - mae: 29.5538 - val_loss: 1754.3658 - val_mae: 29.6274\n",
      "Epoch 28/50\n",
      "16504/16504 [==============================] - ETA: 0s - loss: 1713.6117 - mae: 29.427 - 1s 36us/sample - loss: 1719.0023 - mae: 29.5161 - val_loss: 1743.6630 - val_mae: 29.7289\n",
      "Epoch 29/50\n",
      "16504/16504 [==============================] - 1s 35us/sample - loss: 1720.1112 - mae: 29.5219 - val_loss: 1784.8255 - val_mae: 30.8542\n",
      "Epoch 30/50\n",
      "16504/16504 [==============================] - 1s 39us/sample - loss: 1715.9171 - mae: 29.4693 - val_loss: 1739.8307 - val_mae: 29.6930\n",
      "Epoch 31/50\n",
      "16504/16504 [==============================] - 1s 36us/sample - loss: 1714.9067 - mae: 29.4530 - val_loss: 1750.2258 - val_mae: 29.6688\n",
      "Epoch 32/50\n",
      "16504/16504 [==============================] - 1s 38us/sample - loss: 1710.8067 - mae: 29.4084 - val_loss: 1739.3936 - val_mae: 29.8611\n",
      "Epoch 33/50\n",
      "16504/16504 [==============================] - 1s 37us/sample - loss: 1711.5592 - mae: 29.4108 - val_loss: 1748.7634 - val_mae: 30.1507\n",
      "Epoch 34/50\n",
      "16504/16504 [==============================] - 1s 35us/sample - loss: 1707.3406 - mae: 29.4037 - val_loss: 1744.2402 - val_mae: 29.4869\n",
      "Epoch 35/50\n",
      "16504/16504 [==============================] - 1s 36us/sample - loss: 1707.6594 - mae: 29.3572 - val_loss: 1778.8115 - val_mae: 29.4944\n",
      "Epoch 36/50\n",
      "16504/16504 [==============================] - 1s 37us/sample - loss: 1708.5281 - mae: 29.3366 - val_loss: 1760.0210 - val_mae: 29.6860\n",
      "Epoch 37/50\n",
      "16504/16504 [==============================] - 1s 37us/sample - loss: 1706.4809 - mae: 29.3398 - val_loss: 1731.3813 - val_mae: 29.6986\n",
      "Epoch 38/50\n",
      "16504/16504 [==============================] - 1s 35us/sample - loss: 1705.5200 - mae: 29.3132 - val_loss: 1741.0860 - val_mae: 29.9880\n",
      "Epoch 39/50\n",
      "16504/16504 [==============================] - 1s 36us/sample - loss: 1700.8084 - mae: 29.3025 - val_loss: 1758.2099 - val_mae: 30.5325\n",
      "Epoch 40/50\n",
      "16504/16504 [==============================] - 1s 38us/sample - loss: 1703.3836 - mae: 29.2785 - val_loss: 1734.0765 - val_mae: 29.4404\n",
      "Epoch 41/50\n",
      "16504/16504 [==============================] - 1s 33us/sample - loss: 1705.1062 - mae: 29.3185 - val_loss: 1729.6791 - val_mae: 29.3678\n",
      "Epoch 42/50\n",
      "16504/16504 [==============================] - 1s 36us/sample - loss: 1699.4071 - mae: 29.2684 - val_loss: 1729.8365 - val_mae: 29.8238\n",
      "Epoch 43/50\n",
      "16504/16504 [==============================] - 1s 39us/sample - loss: 1698.4100 - mae: 29.2174 - val_loss: 1723.6418 - val_mae: 29.6575\n",
      "Epoch 44/50\n",
      "16504/16504 [==============================] - 1s 38us/sample - loss: 1698.1461 - mae: 29.1916 - val_loss: 1740.7736 - val_mae: 30.0402\n",
      "Epoch 45/50\n",
      "16504/16504 [==============================] - 1s 38us/sample - loss: 1698.6616 - mae: 29.2215 - val_loss: 1742.2931 - val_mae: 30.0907\n",
      "Epoch 46/50\n",
      "16504/16504 [==============================] - 1s 33us/sample - loss: 1694.5635 - mae: 29.2080 - val_loss: 1719.9238 - val_mae: 29.4450\n",
      "Epoch 47/50\n",
      "16504/16504 [==============================] - 1s 35us/sample - loss: 1696.0318 - mae: 29.1370 - val_loss: 1726.7600 - val_mae: 29.3375\n",
      "Epoch 48/50\n",
      "16504/16504 [==============================] - 1s 35us/sample - loss: 1699.5345 - mae: 29.1725 - val_loss: 1725.4445 - val_mae: 29.3090\n",
      "Epoch 49/50\n",
      "16504/16504 [==============================] - 1s 36us/sample - loss: 1695.7477 - mae: 29.1012 - val_loss: 1785.9928 - val_mae: 29.3787\n",
      "Epoch 50/50\n",
      "16504/16504 [==============================] - 1s 37us/sample - loss: 1695.0886 - mae: 29.1233 - val_loss: 1726.8190 - val_mae: 29.8199\n"
     ]
    }
   ],
   "source": [
    "history = model.fit(norm_sens, deteriorate, epochs=50, validation_split = 0.2, verbose=1)"
   ]
  },
  {
   "cell_type": "markdown",
   "metadata": {},
   "source": [
    "Plot the graph of the model training over time"
   ]
  },
  {
   "cell_type": "code",
   "execution_count": 22,
   "metadata": {},
   "outputs": [
    {
     "data": {
      "image/png": "[encoded data removed]",
      "text/plain": [
       "<Figure size 1080x1080 with 1 Axes>"
      ]
     },
     "metadata": {
      "needs_background": "light"
     },
     "output_type": "display_data"
    }
   ],
   "source": [
    "fig = plt.gcf()\n",
    "fig.set_size_inches(15, 15)\n",
    "plt.plot(history.history['mae'])\n",
    "plt.plot(history.history['val_mae'])\n",
    "plt.title('Mean Absolute Error over time')\n",
    "plt.ylabel('MAE(Cycles)')\n",
    "plt.xlabel('Epoch')\n",
    "plt.legend(['Train', 'Validation'], loc='upper left')\n",
    "\n",
    "font = {'family' : 'monospace',\n",
    "        'weight' : 'bold',\n",
    "        'size'   : 35}\n",
    "\n",
    "matplotlib.rc('font', **font)\n",
    "\n",
    "\n",
    "\n",
    "plt.savefig('InitialExample.png',  bbox_inches='tight')"
   ]
  },
  {
   "cell_type": "code",
   "execution_count": null,
   "metadata": {},
   "outputs": [],
   "source": []
  },
  {
   "cell_type": "code",
   "execution_count": null,
   "metadata": {},
   "outputs": [],
   "source": []
  }
 ],
 "metadata": {
  "kernelspec": {
   "display_name": "Python 3",
   "language": "python",
   "name": "python3"
  },
  "language_info": {
   "codemirror_mode": {
    "name": "ipython",
    "version": 3
   },
   "file_extension": ".py",
   "mimetype": "text/x-python",
   "name": "python",
   "nbconvert_exporter": "python",
   "pygments_lexer": "ipython3",
   "version": "3.7.5"
  }
 },
 "nbformat": 4,
 "nbformat_minor": 4
}
