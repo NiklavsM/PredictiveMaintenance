{
 "cells": [
  {
   "cell_type": "code",
   "execution_count": 1,
   "metadata": {},
   "outputs": [],
   "source": [
    "import numpy as np\n",
    "import pandas as pd\n",
    "import seaborn as sns\n",
    "import math as mt\n",
    "import random as rng\n",
    "import pickle\n",
    "from sklearn import preprocessing"
   ]
  },
  {
   "cell_type": "markdown",
   "metadata": {},
   "source": [
    "Load the data from the last step"
   ]
  },
  {
   "cell_type": "code",
   "execution_count": 2,
   "metadata": {},
   "outputs": [],
   "source": [
    "data = np.load(\"grouped.npy\", allow_pickle=True)\n",
    "target = np.load(\"groupedTarg.npy\", allow_pickle=True)"
   ]
  },
  {
   "cell_type": "markdown",
   "metadata": {},
   "source": [
    "Perform the train and validation split here. The data is split before scaling so that the validation data is scaled after the fitting on the train data- since we are assuming the scenario where a predictive maintenance model will need to handle the scenario of dealing with new data and calling a standardise tranform long after the fitting has taken place. The split is conducted randomly so that 1- this script can be re-run to change the data in the train/test split, 2- any outliers are hopefully spread across both splits"
   ]
  },
  {
   "cell_type": "code",
   "execution_count": 3,
   "metadata": {},
   "outputs": [
    {
     "name": "stdout",
     "output_type": "stream",
     "text": [
      "70\n"
     ]
    }
   ],
   "source": [
    "data = data.tolist()\n",
    "target = target.tolist()\n",
    "\n",
    "val = []\n",
    "valTarget = []\n",
    "\n",
    "valAmount = 30\n",
    "trainAmount = len(target) - valAmount\n",
    "print(trainAmount)\n",
    "\n",
    "\n",
    "for i in range(valAmount):\n",
    "    index = rng.randint(0, len(target)-1)\n",
    "    val.append(data.pop(index))\n",
    "    valTarget.append(target.pop(index))\n",
    "\n",
    "train = data\n",
    "trainTarget = target"
   ]
  },
  {
   "cell_type": "markdown",
   "metadata": {},
   "source": [
    "Flatten the data so it can be standardised"
   ]
  },
  {
   "cell_type": "code",
   "execution_count": 4,
   "metadata": {},
   "outputs": [],
   "source": [
    "def flatten(array):\n",
    "    flat_array = []\n",
    "    \n",
    "    for group in array:\n",
    "        for i in group:\n",
    "            flat_array.append(i)\n",
    "    return flat_array\n",
    "\n",
    "\n",
    "trainFlat = flatten(train)\n",
    "trainTargetFlat = flatten(trainTarget)\n",
    "valFlat = flatten(val)\n",
    "valTargetFlat = flatten(valTarget)"
   ]
  },
  {
   "cell_type": "code",
   "execution_count": 5,
   "metadata": {},
   "outputs": [
    {
     "name": "stdout",
     "output_type": "stream",
     "text": [
      "21\n",
      "4516\n"
     ]
    }
   ],
   "source": [
    "print(len(trainFlat[0]))\n",
    "print(len(valFlat))"
   ]
  },
  {
   "cell_type": "code",
   "execution_count": 6,
   "metadata": {},
   "outputs": [
    {
     "name": "stdout",
     "output_type": "stream",
     "text": [
      "[518.67, 642.12, 1584.66, 1401.38, 14.62, 21.61, 553.94, 2388.08, 9057.06, 1.3, 47.49, 522.23, 2388.05, 8130.88, 8.4137, 0.03, 392.0, 2388.0, 100.0, 39.0, 23.375]\n"
     ]
    }
   ],
   "source": [
    "print(trainFlat[0])"
   ]
  },
  {
   "cell_type": "markdown",
   "metadata": {},
   "source": [
    "Create the standardiser and the PCA object sot he tranformation can be done. Fit the preprocessors to the training data then perform a tranform on the train and validation data"
   ]
  },
  {
   "cell_type": "code",
   "execution_count": 7,
   "metadata": {},
   "outputs": [],
   "source": [
    "from sklearn import preprocessing\n",
    "scaler = preprocessing.StandardScaler()\n",
    "\n",
    "scaledTrain = scaler.fit_transform(np.array(trainFlat))\n",
    "scaledVal = scaler.transform(np.array(valFlat))"
   ]
  },
  {
   "cell_type": "code",
   "execution_count": 8,
   "metadata": {},
   "outputs": [],
   "source": [
    "#PCA\n",
    "\n",
    "from sklearn.decomposition import PCA\n",
    "pca = PCA(.96)\n",
    "scaledTrain = pca.fit_transform(scaledTrain)\n",
    "\n",
    "scaledVal = pca.transform(scaledVal)"
   ]
  },
  {
   "cell_type": "code",
   "execution_count": 9,
   "metadata": {},
   "outputs": [
    {
     "name": "stdout",
     "output_type": "stream",
     "text": [
      "11\n"
     ]
    }
   ],
   "source": [
    "print(len(scaledVal[0]))"
   ]
  },
  {
   "cell_type": "markdown",
   "metadata": {},
   "source": [
    "Save the standardiser and pca so it can tranform other data at a later while using the same parameters "
   ]
  },
  {
   "cell_type": "code",
   "execution_count": 10,
   "metadata": {},
   "outputs": [],
   "source": [
    "pickle.dump( scaler, open( \"../savedStates/scaler.p\", \"wb\" ) )\n",
    "pickle.dump(pca, open(\"../savedStates/pca.p\", \"wb\"))\n"
   ]
  },
  {
   "cell_type": "markdown",
   "metadata": {},
   "source": [
    "Regroup the data before saving it again. The data is now ready for the neural network notebook"
   ]
  },
  {
   "cell_type": "code",
   "execution_count": 11,
   "metadata": {},
   "outputs": [],
   "source": [
    "def regroup(data, target, amount):\n",
    "    grouped = []\n",
    "    groupedTarg = []\n",
    "    \n",
    "    for i in range(amount):\n",
    "        grouped.append([])\n",
    "        groupedTarg.append([])\n",
    "    \n",
    "    total = 0\n",
    "    for i in range(len(grouped)):\n",
    "        j = total\n",
    "        if i!= len(grouped)-1:\n",
    "            while target[j] > target[j+1]:\n",
    "                grouped[i].append(data[j])\n",
    "                groupedTarg[i].append(target[j])\n",
    "                j+=1\n",
    "            grouped[i].append(data[j])\n",
    "            groupedTarg[i].append(target[j])\n",
    "            total = j + 1\n",
    "\n",
    "    for i in range(total, len(target)):\n",
    "        grouped[len(grouped)-1].append(data[i])\n",
    "        groupedTarg[len(grouped)-1].append(target[i])\n",
    "    \n",
    "    return grouped, groupedTarg"
   ]
  },
  {
   "cell_type": "code",
   "execution_count": 12,
   "metadata": {},
   "outputs": [],
   "source": [
    "train, targetTrain = regroup(scaledTrain.tolist(), trainTargetFlat, trainAmount)\n",
    "val, valTargetTrain = regroup(scaledVal.tolist(), valTargetFlat, valAmount)\n",
    "\n",
    "\n",
    "\n",
    "np.save(\"finished/stTrain\", np.array(train))\n",
    "np.save(\"finished/stTrainTarget\", np.array(targetTrain))\n",
    "\n",
    "np.save(\"finished/stVal\", np.array(val))\n",
    "np.save(\"finished/stValTarget\", np.array(valTargetTrain))"
   ]
  },
  {
   "cell_type": "code",
   "execution_count": null,
   "metadata": {},
   "outputs": [],
   "source": []
  }
 ],
 "metadata": {
  "kernelspec": {
   "display_name": "Python 3",
   "language": "python",
   "name": "python3"
  },
  "language_info": {
   "codemirror_mode": {
    "name": "ipython",
    "version": 3
   },
   "file_extension": ".py",
   "mimetype": "text/x-python",
   "name": "python",
   "nbconvert_exporter": "python",
   "pygments_lexer": "ipython3",
   "version": "3.7.5"
  }
 },
 "nbformat": 4,
 "nbformat_minor": 4
}
