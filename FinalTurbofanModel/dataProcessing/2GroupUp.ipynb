{
 "cells": [
  {
   "cell_type": "code",
   "execution_count": 1,
   "metadata": {},
   "outputs": [],
   "source": [
    "import numpy as np\n",
    "import pandas as pd\n",
    "import seaborn as sns\n",
    "import math as mt\n",
    "import random as rng\n",
    "\n",
    "from sklearn import preprocessing"
   ]
  },
  {
   "cell_type": "markdown",
   "metadata": {},
   "source": [
    "Load the data which will be used. "
   ]
  },
  {
   "cell_type": "code",
   "execution_count": 2,
   "metadata": {},
   "outputs": [],
   "source": [
    "data = np.load(\"Train.npy\", allow_pickle=True)\n",
    "target = np.load(\"TrainTarget.npy\", allow_pickle=True)\n",
    "totalSims = 100"
   ]
  },
  {
   "cell_type": "markdown",
   "metadata": {},
   "source": [
    "Group all of the data according to what simulation it is in. Keeping each simulation seperate helps reduce bias issues - because of the way the data is sampled at the end, there is overlap in the data, so it needs to be ensured that this overlap does not occur between the train, validation and testing data"
   ]
  },
  {
   "cell_type": "code",
   "execution_count": 3,
   "metadata": {},
   "outputs": [
    {
     "name": "stdout",
     "output_type": "stream",
     "text": [
      "20631\n"
     ]
    }
   ],
   "source": [
    "grouped = []\n",
    "groupedTarg = []\n",
    "\n",
    "dataList = data.tolist()\n",
    "targetList = target.tolist()\n",
    "print(len(targetList))"
   ]
  },
  {
   "cell_type": "code",
   "execution_count": 4,
   "metadata": {},
   "outputs": [],
   "source": [
    "for i in range(totalSims):\n",
    "    grouped.append([])\n",
    "    groupedTarg.append([])\n",
    "    \n",
    "total = 0\n",
    "for i in range(len(grouped)):\n",
    "    j = total\n",
    "    if i!= len(grouped)-1:\n",
    "        while targetList[j] > targetList[j+1]:\n",
    "            grouped[i].append(dataList[j])\n",
    "            groupedTarg[i].append(targetList[j])\n",
    "            j+=1\n",
    "        grouped[i].append(dataList[j])\n",
    "        groupedTarg[i].append(targetList[j])\n",
    "        total = j + 1\n",
    "\n",
    "for i in range(total, len(targetList)):\n",
    "    grouped[len(grouped)-1].append(dataList[i])\n",
    "    groupedTarg[len(grouped)-1].append(targetList[i])\n",
    "    "
   ]
  },
  {
   "cell_type": "code",
   "execution_count": 5,
   "metadata": {},
   "outputs": [
    {
     "name": "stdout",
     "output_type": "stream",
     "text": [
      "127\n",
      "361\n"
     ]
    }
   ],
   "source": [
    "groupMax = []\n",
    "for i in groupedTarg:\n",
    "    groupMax.append(i[0])\n",
    "groupMax = np.array(groupMax)\n",
    "print(groupMax.min())\n",
    "print(groupMax.max())"
   ]
  },
  {
   "cell_type": "markdown",
   "metadata": {},
   "source": [
    "Can also reduce the amount of data in each simulation - for example the final 150 cycles of each simulation "
   ]
  },
  {
   "cell_type": "code",
   "execution_count": 6,
   "metadata": {},
   "outputs": [],
   "source": [
    "focus = 150\n",
    "#Focus on 150 cycles, only when using train file\n",
    "for i in range(len(grouped)):\n",
    "    if groupedTarg[i][0] > focus:\n",
    "        for j in range(groupedTarg[i][0]-focus):\n",
    "            grouped[i].pop(0)\n",
    "            groupedTarg[i].pop(0)"
   ]
  },
  {
   "cell_type": "markdown",
   "metadata": {},
   "source": [
    "Save data for the next stage"
   ]
  },
  {
   "cell_type": "code",
   "execution_count": 7,
   "metadata": {},
   "outputs": [],
   "source": [
    "np.save(\"grouped\", np.array(grouped))\n",
    "np.save(\"groupedTarg\", np.array(groupedTarg))"
   ]
  },
  {
   "cell_type": "code",
   "execution_count": null,
   "metadata": {},
   "outputs": [],
   "source": []
  }
 ],
 "metadata": {
  "kernelspec": {
   "display_name": "Python 3",
   "language": "python",
   "name": "python3"
  },
  "language_info": {
   "codemirror_mode": {
    "name": "ipython",
    "version": 3
   },
   "file_extension": ".py",
   "mimetype": "text/x-python",
   "name": "python",
   "nbconvert_exporter": "python",
   "pygments_lexer": "ipython3",
   "version": "3.7.5"
  }
 },
 "nbformat": 4,
 "nbformat_minor": 4
}
