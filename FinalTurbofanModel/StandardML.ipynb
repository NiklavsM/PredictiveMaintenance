{
 "cells": [
  {
   "cell_type": "code",
   "execution_count": 1,
   "metadata": {},
   "outputs": [],
   "source": [
    "import numpy as np\n",
    "import pandas as pd\n",
    "import seaborn as sns\n",
    "import math as mt\n",
    "import random as rng\n",
    "\n",
    "from sklearn import preprocessing"
   ]
  },
  {
   "cell_type": "code",
   "execution_count": null,
   "metadata": {},
   "outputs": [],
   "source": []
  },
  {
   "cell_type": "code",
   "execution_count": null,
   "metadata": {},
   "outputs": [],
   "source": []
  },
  {
   "cell_type": "code",
   "execution_count": 2,
   "metadata": {},
   "outputs": [],
   "source": [
    "data = np.load(\"dataFormatted/Train.npy\", allow_pickle=True)\n",
    "target = np.load(\"dataFormatted/TrainTarget.npy\", allow_pickle=True)\n",
    "totalSims = 100\n",
    "\n",
    "newData = []\n",
    "newTarget = []\n",
    "\n",
    "#for dataLine, targetLine in zip(data, target):\n",
    "#    if targetLine <= 120:\n",
    "#        newData.append(dataLine)\n",
    "#        newTarget.append(targetLine)\n",
    "        \n",
    "#data = np.array(newData)\n",
    "#target = np.array(newTarget)"
   ]
  },
  {
   "cell_type": "code",
   "execution_count": 3,
   "metadata": {},
   "outputs": [],
   "source": [
    "from sklearn import preprocessing\n",
    "scaler = preprocessing.MinMaxScaler()\n",
    "df = pd.DataFrame(data)\n",
    "df = df.drop([0, 9, 17, 18], axis=1)\n",
    "\n",
    "normTrain = scaler.fit_transform(df.to_numpy())"
   ]
  },
  {
   "cell_type": "code",
   "execution_count": 4,
   "metadata": {},
   "outputs": [],
   "source": [
    "scaler = preprocessing.StandardScaler()\n",
    "\n",
    "scaledTrain = scaler.fit_transform(data)\n",
    "\n",
    "from sklearn.decomposition import PCA\n",
    "pca = PCA(.96)\n",
    "pcaTrain = pca.fit_transform(scaledTrain)\n"
   ]
  },
  {
   "cell_type": "code",
   "execution_count": 5,
   "metadata": {},
   "outputs": [],
   "source": [
    "from sklearn.svm import SVR\n",
    "from sklearn import ensemble\n",
    "from sklearn import linear_model\n",
    "from sklearn.model_selection import train_test_split\n",
    "from sklearn.model_selection import cross_val_score\n",
    "from sklearn.metrics import mean_squared_error\n",
    "from sklearn.metrics import mean_absolute_error\n",
    "\n",
    "from sklearn.linear_model import LinearRegression\n",
    "from sklearn.neighbors import KNeighborsRegressor\n",
    "from sklearn.neighbors import RadiusNeighborsRegressor"
   ]
  },
  {
   "cell_type": "code",
   "execution_count": 6,
   "metadata": {},
   "outputs": [],
   "source": [
    "sgd = linear_model.SGDRegressor(loss='squared_loss')\n",
    "\n",
    "\n",
    "forest = ensemble.RandomForestRegressor(max_depth=20, n_estimators=100)\n",
    "extraForest = ensemble.ExtraTreesRegressor(n_estimators=20, max_depth=100)\n",
    "\n",
    "svr = SVR(kernel='poly', coef0=4)\n",
    "\n",
    "linearRgr = LinearRegression()\n",
    "knn = KNeighborsRegressor(75, weights='distance')\n"
   ]
  },
  {
   "cell_type": "code",
   "execution_count": 7,
   "metadata": {},
   "outputs": [],
   "source": [
    "from sklearn.utils import shuffle\n",
    "\n",
    "normTrain, target = shuffle(normTrain, target)\n"
   ]
  },
  {
   "cell_type": "code",
   "execution_count": 8,
   "metadata": {},
   "outputs": [
    {
     "data": {
      "text/plain": [
       "array([-29.87331813, -29.45880513, -30.01910315, -28.94931536,\n",
       "       -29.44213913])"
      ]
     },
     "execution_count": 8,
     "metadata": {},
     "output_type": "execute_result"
    }
   ],
   "source": [
    "#forest.fit(X_train, y_train)\n",
    "#results = forest.predict(X_test)\n",
    "#print(mean_squared_error(results, y_test))\n",
    "#print(mean_absolute_error(results, y_test))\n",
    "cross_val_score(forest, normTrain, target, scoring=\"neg_mean_absolute_error\")"
   ]
  },
  {
   "cell_type": "code",
   "execution_count": 9,
   "metadata": {},
   "outputs": [
    {
     "data": {
      "text/plain": [
       "array([-30.31894839, -30.26914687, -30.34934561, -29.45295686,\n",
       "       -30.12487882])"
      ]
     },
     "execution_count": 9,
     "metadata": {},
     "output_type": "execute_result"
    }
   ],
   "source": [
    "cross_val_score(extraForest, normTrain, target, scoring=\"neg_mean_absolute_error\")"
   ]
  },
  {
   "cell_type": "code",
   "execution_count": 10,
   "metadata": {},
   "outputs": [
    {
     "data": {
      "text/plain": [
       "array([-30.21841903, -29.93039479, -30.04031362, -29.41863045,\n",
       "       -30.0173639 ])"
      ]
     },
     "execution_count": 10,
     "metadata": {},
     "output_type": "execute_result"
    }
   ],
   "source": [
    "cross_val_score(svr, normTrain, target, scoring=\"neg_mean_absolute_error\")"
   ]
  },
  {
   "cell_type": "code",
   "execution_count": 11,
   "metadata": {},
   "outputs": [
    {
     "data": {
      "text/plain": [
       "array([-34.36145803, -34.04615731, -34.69486665, -33.45178829,\n",
       "       -34.12513451])"
      ]
     },
     "execution_count": 11,
     "metadata": {},
     "output_type": "execute_result"
    }
   ],
   "source": [
    "cross_val_score(linearRgr, normTrain, target, scoring=\"neg_mean_absolute_error\")"
   ]
  },
  {
   "cell_type": "code",
   "execution_count": 12,
   "metadata": {},
   "outputs": [
    {
     "data": {
      "text/plain": [
       "array([-31.14786217, -30.58015448, -30.8201173 , -29.82118645,\n",
       "       -30.27403101])"
      ]
     },
     "execution_count": 12,
     "metadata": {},
     "output_type": "execute_result"
    }
   ],
   "source": [
    "cross_val_score(knn, normTrain, target, scoring=\"neg_mean_absolute_error\")"
   ]
  },
  {
   "cell_type": "code",
   "execution_count": 13,
   "metadata": {},
   "outputs": [
    {
     "data": {
      "text/plain": [
       "array([-34.44433351, -34.08064934, -34.63522001, -33.56490611,\n",
       "       -34.0206986 ])"
      ]
     },
     "execution_count": 13,
     "metadata": {},
     "output_type": "execute_result"
    }
   ],
   "source": [
    "cross_val_score(sgd, normTrain, target, scoring=\"neg_mean_absolute_error\")"
   ]
  },
  {
   "cell_type": "code",
   "execution_count": null,
   "metadata": {},
   "outputs": [],
   "source": []
  }
 ],
 "metadata": {
  "kernelspec": {
   "display_name": "Python 3",
   "language": "python",
   "name": "python3"
  },
  "language_info": {
   "codemirror_mode": {
    "name": "ipython",
    "version": 3
   },
   "file_extension": ".py",
   "mimetype": "text/x-python",
   "name": "python",
   "nbconvert_exporter": "python",
   "pygments_lexer": "ipython3",
   "version": "3.7.5"
  }
 },
 "nbformat": 4,
 "nbformat_minor": 4
}
