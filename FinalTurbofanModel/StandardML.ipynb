{
 "cells": [
  {
   "cell_type": "code",
   "execution_count": 1,
   "metadata": {},
   "outputs": [],
   "source": [
    "import numpy as np\n",
    "import pandas as pd\n",
    "import seaborn as sns\n",
    "import math as mt\n",
    "import random as rng\n",
    "\n",
    "from sklearn import preprocessing"
   ]
  },
  {
   "cell_type": "markdown",
   "metadata": {},
   "source": [
    "Load the data in and limit the number of data in each simulation if we want to "
   ]
  },
  {
   "cell_type": "code",
   "execution_count": 2,
   "metadata": {},
   "outputs": [],
   "source": [
    "data = np.load(\"dataFormatted/Train.npy\", allow_pickle=True)\n",
    "target = np.load(\"dataFormatted/TrainTarget.npy\", allow_pickle=True)\n",
    "totalSims = 100\n",
    "\n",
    "newData = []\n",
    "newTarget = []\n",
    "\n",
    "for dataLine, targetLine in zip(data, target):\n",
    "    if targetLine <= 120:\n",
    "        newData.append(dataLine)\n",
    "        newTarget.append(targetLine)\n",
    "        \n",
    "data = np.array(newData)\n",
    "target = np.array(newTarget)"
   ]
  },
  {
   "cell_type": "markdown",
   "metadata": {},
   "source": [
    "Perform normalisation and drop rows which don't change"
   ]
  },
  {
   "cell_type": "code",
   "execution_count": 3,
   "metadata": {},
   "outputs": [],
   "source": [
    "from sklearn import preprocessing\n",
    "scaler = preprocessing.MinMaxScaler()\n",
    "df = pd.DataFrame(data)\n",
    "df = df.drop([0, 9, 17, 18], axis=1)\n",
    "\n",
    "normTrain = scaler.fit_transform(df.to_numpy())"
   ]
  },
  {
   "cell_type": "markdown",
   "metadata": {},
   "source": [
    "Also perform standardisation and pca if we want to use that instead"
   ]
  },
  {
   "cell_type": "code",
   "execution_count": 4,
   "metadata": {},
   "outputs": [],
   "source": [
    "scaler = preprocessing.StandardScaler()\n",
    "\n",
    "scaledTrain = scaler.fit_transform(data)\n",
    "\n",
    "from sklearn.decomposition import PCA\n",
    "pca = PCA(.96)\n",
    "pcaTrain = pca.fit_transform(scaledTrain)\n"
   ]
  },
  {
   "cell_type": "markdown",
   "metadata": {},
   "source": [
    "Create objects for all the model types that we want to test"
   ]
  },
  {
   "cell_type": "code",
   "execution_count": 5,
   "metadata": {},
   "outputs": [],
   "source": [
    "from sklearn.svm import SVR\n",
    "from sklearn import ensemble\n",
    "from sklearn import linear_model\n",
    "from sklearn.model_selection import train_test_split\n",
    "from sklearn.model_selection import cross_val_score\n",
    "from sklearn.model_selection import cross_validate\n",
    "from sklearn.metrics import mean_squared_error\n",
    "from sklearn.metrics import mean_absolute_error\n",
    "\n",
    "from sklearn.linear_model import LinearRegression\n",
    "from sklearn.neighbors import KNeighborsRegressor\n",
    "from sklearn.neighbors import RadiusNeighborsRegressor"
   ]
  },
  {
   "cell_type": "code",
   "execution_count": null,
   "metadata": {},
   "outputs": [],
   "source": []
  },
  {
   "cell_type": "code",
   "execution_count": 6,
   "metadata": {},
   "outputs": [],
   "source": [
    "sgd = linear_model.SGDRegressor(loss='squared_loss')\n",
    "\n",
    "\n",
    "forest = ensemble.RandomForestRegressor(max_depth=20, n_estimators=100)\n",
    "extraForest = ensemble.ExtraTreesRegressor(n_estimators=20, max_depth=100)\n",
    "\n",
    "svr = SVR(kernel='poly', coef0=4)\n",
    "\n",
    "linearRgr = LinearRegression()\n",
    "knn = KNeighborsRegressor(75, weights='distance')\n"
   ]
  },
  {
   "cell_type": "markdown",
   "metadata": {},
   "source": [
    "Shuffle the data and specify the metrics we want to use"
   ]
  },
  {
   "cell_type": "code",
   "execution_count": 7,
   "metadata": {},
   "outputs": [],
   "source": [
    "from sklearn.utils import shuffle\n",
    "\n",
    "normTrain, target = shuffle(normTrain, target)\n",
    "scores = {\"mae\" : \"neg_mean_absolute_error\", \"mse\" : \"neg_mean_squared_error\"}"
   ]
  },
  {
   "cell_type": "markdown",
   "metadata": {},
   "source": [
    "Do a 5-fold cross validation on all the models we want to try and get their results"
   ]
  },
  {
   "cell_type": "code",
   "execution_count": 8,
   "metadata": {},
   "outputs": [
    {
     "data": {
      "text/plain": [
       "{'fit_time': array([13.06249547, 12.89413929, 12.86224532, 12.8781538 , 12.83642244]),\n",
       " 'score_time': array([0.09596801, 0.09497046, 0.09598732, 0.09898472, 0.09598351]),\n",
       " 'test_mae': array([-29.3923459 , -29.43481285, -29.07253647, -29.62705085,\n",
       "        -29.84146957]),\n",
       " 'test_mse': array([-1734.42696026, -1741.19607608, -1687.35171479, -1768.0966751 ,\n",
       "        -1755.70468386])}"
      ]
     },
     "execution_count": 8,
     "metadata": {},
     "output_type": "execute_result"
    }
   ],
   "source": [
    "cross_validate(forest, normTrain, target, scoring = scores)"
   ]
  },
  {
   "cell_type": "code",
   "execution_count": 9,
   "metadata": {},
   "outputs": [
    {
     "data": {
      "text/plain": [
       "{'fit_time': array([1.29568577, 1.28725791, 1.27862287, 1.2959857 , 1.28017616]),\n",
       " 'score_time': array([0.02499676, 0.02499294, 0.02700806, 0.02599216, 0.02600217]),\n",
       " 'test_mae': array([-29.79015023, -30.23635482, -29.42978672, -30.08502181,\n",
       "        -30.14678866]),\n",
       " 'test_mse': array([-1790.3860292 , -1833.71656568, -1740.63278841, -1829.26853248,\n",
       "        -1768.91272964])}"
      ]
     },
     "execution_count": 9,
     "metadata": {},
     "output_type": "execute_result"
    }
   ],
   "source": [
    "cross_validate(extraForest, normTrain, target, scoring = scores)"
   ]
  },
  {
   "cell_type": "code",
   "execution_count": 10,
   "metadata": {},
   "outputs": [
    {
     "data": {
      "text/plain": [
       "{'fit_time': array([9.64917564, 9.53342819, 9.69411087, 9.59468079, 9.66517615]),\n",
       " 'score_time': array([1.09727979, 1.09868741, 1.09601712, 1.11081266, 1.10028124]),\n",
       " 'test_mae': array([-30.13400307, -30.09208724, -29.25715856, -29.97358274,\n",
       "        -30.09215236]),\n",
       " 'test_mse': array([-1837.39688881, -1843.54219679, -1752.69495152, -1853.82687282,\n",
       "        -1819.61734879])}"
      ]
     },
     "execution_count": 10,
     "metadata": {},
     "output_type": "execute_result"
    }
   ],
   "source": [
    "cross_validate(svr, normTrain, target, scoring = scores)"
   ]
  },
  {
   "cell_type": "code",
   "execution_count": 11,
   "metadata": {},
   "outputs": [
    {
     "data": {
      "text/plain": [
       "{'fit_time': array([0.02199221, 0.01199412, 0.00899673, 0.00999594, 0.00999689]),\n",
       " 'score_time': array([0.00100088, 0.00100017, 0.00100088, 0.00100088, 0.00099874]),\n",
       " 'test_mae': array([-34.32219693, -34.2233644 , -33.70595577, -34.25344997,\n",
       "        -34.12978461]),\n",
       " 'test_mse': array([-2019.2214763 , -1998.99086514, -1951.68248376, -2033.283318  ,\n",
       "        -1986.18359625])}"
      ]
     },
     "execution_count": 11,
     "metadata": {},
     "output_type": "execute_result"
    }
   ],
   "source": [
    "cross_validate(linearRgr, normTrain, target, scoring = scores)"
   ]
  },
  {
   "cell_type": "code",
   "execution_count": 12,
   "metadata": {},
   "outputs": [
    {
     "data": {
      "text/plain": [
       "{'fit_time': array([0.17994165, 0.20195818, 0.21694469, 0.17255902, 0.17794394]),\n",
       " 'score_time': array([1.93001127, 2.01618719, 2.25633359, 2.02799082, 2.175915  ]),\n",
       " 'test_mae': array([-30.83391901, -30.58364671, -30.00065154, -30.46534143,\n",
       "        -30.66016327]),\n",
       " 'test_mse': array([-1827.71221643, -1806.84785153, -1745.28904987, -1808.00794861,\n",
       "        -1789.49252936])}"
      ]
     },
     "execution_count": 12,
     "metadata": {},
     "output_type": "execute_result"
    }
   ],
   "source": [
    "cross_validate(knn, normTrain, target, scoring = scores)"
   ]
  },
  {
   "cell_type": "code",
   "execution_count": 13,
   "metadata": {},
   "outputs": [
    {
     "data": {
      "text/plain": [
       "{'fit_time': array([0.13795614, 0.12495995, 0.12695909, 0.09297037, 0.09896779]),\n",
       " 'score_time': array([0.00099969, 0.00100064, 0.00099945, 0.00099921, 0.00099993]),\n",
       " 'test_mae': array([-34.20780039, -34.18553588, -33.80312103, -34.48812959,\n",
       "        -33.93317873]),\n",
       " 'test_mse': array([-2027.49004665, -2018.53989868, -1955.29336586, -2043.48835898,\n",
       "        -1995.57979531])}"
      ]
     },
     "execution_count": 13,
     "metadata": {},
     "output_type": "execute_result"
    }
   ],
   "source": [
    "cross_validate(sgd, normTrain, target, scoring = scores)"
   ]
  },
  {
   "cell_type": "code",
   "execution_count": null,
   "metadata": {},
   "outputs": [],
   "source": []
  }
 ],
 "metadata": {
  "kernelspec": {
   "display_name": "Python 3",
   "language": "python",
   "name": "python3"
  },
  "language_info": {
   "codemirror_mode": {
    "name": "ipython",
    "version": 3
   },
   "file_extension": ".py",
   "mimetype": "text/x-python",
   "name": "python",
   "nbconvert_exporter": "python",
   "pygments_lexer": "ipython3",
   "version": "3.7.5"
  }
 },
 "nbformat": 4,
 "nbformat_minor": 4
}
