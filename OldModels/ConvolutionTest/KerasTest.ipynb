{
 "cells": [
  {
   "cell_type": "code",
   "execution_count": 1,
   "metadata": {},
   "outputs": [],
   "source": [
    "import tensorflow as tf\n",
    "from tensorflow import keras\n"
   ]
  },
  {
   "cell_type": "code",
   "execution_count": 2,
   "metadata": {},
   "outputs": [
    {
     "name": "stdout",
     "output_type": "stream",
     "text": [
      "2.2.4-tf\n",
      "2.0.0\n"
     ]
    }
   ],
   "source": [
    "print(tf.keras.__version__)\n",
    "print(tf.__version__)"
   ]
  },
  {
   "cell_type": "code",
   "execution_count": 3,
   "metadata": {},
   "outputs": [],
   "source": [
    "import numpy as np\n",
    "import pandas as pd\n",
    "import matplotlib.pyplot as plt\n",
    "import seaborn as sns\n",
    "import math as mt\n",
    "\n",
    "from sklearn import preprocessing\n"
   ]
  },
  {
   "cell_type": "code",
   "execution_count": 4,
   "metadata": {},
   "outputs": [],
   "source": [
    "\n",
    "def getColumns(size):\n",
    "    columns = []\n",
    "    for i in range(size):\n",
    "        columns.append(i)\n",
    "    return columns"
   ]
  },
  {
   "cell_type": "code",
   "execution_count": 5,
   "metadata": {},
   "outputs": [],
   "source": [
    "directory = \"./CMAPSSData/train_FD001.txt\"\n",
    "turbo = pd.read_csv(directory, header=None, sep=' ')\n",
    "turbo = turbo.drop([26, 27], axis=1)\n",
    "\n",
    "#print(turbo.values)\n"
   ]
  },
  {
   "cell_type": "code",
   "execution_count": 6,
   "metadata": {},
   "outputs": [],
   "source": [
    "# Drop the input parameters to get just the sensors\n",
    "turboSens = turbo.drop([0,1,2,3,4], axis=1)\n",
    "turboSens.columns = getColumns(turboSens.shape[1])"
   ]
  },
  {
   "cell_type": "code",
   "execution_count": 7,
   "metadata": {},
   "outputs": [],
   "source": [
    "# Get the cycles and useful sensors. \n",
    "turboUsefulSens = turboSens.drop([0, 9, 17, 18], axis=1)"
   ]
  },
  {
   "cell_type": "code",
   "execution_count": 8,
   "metadata": {},
   "outputs": [],
   "source": [
    "min_max_scaler = preprocessing.MinMaxScaler()\n",
    "norm_sens = min_max_scaler.fit_transform(turboUsefulSens)"
   ]
  },
  {
   "cell_type": "code",
   "execution_count": 9,
   "metadata": {},
   "outputs": [],
   "source": [
    "turboCycles = turbo[1]\n",
    "#print(turboCycles)"
   ]
  },
  {
   "cell_type": "code",
   "execution_count": 10,
   "metadata": {},
   "outputs": [],
   "source": [
    "deteriorate = []\n",
    "maxCycle = float(turboCycles.max())\n"
   ]
  },
  {
   "cell_type": "code",
   "execution_count": 11,
   "metadata": {},
   "outputs": [],
   "source": [
    "currentCount = maxCycle\n",
    "for i in range(turbo.shape[0] - 1, -1, -1):\n",
    "    currentRow = turboCycles.loc[i]\n",
    "    deteriorate.insert(0, currentCount)\n",
    "    if currentRow == 1:\n",
    "        currentCount = maxCycle\n",
    "    else:\n",
    "        currentCount -= 1\n"
   ]
  },
  {
   "cell_type": "code",
   "execution_count": 12,
   "metadata": {},
   "outputs": [],
   "source": [
    "deteriorate = pd.DataFrame(deteriorate)"
   ]
  },
  {
   "cell_type": "code",
   "execution_count": 13,
   "metadata": {},
   "outputs": [],
   "source": [
    "deteriorateSwap = []\n",
    "for i in deteriorate[0]:\n",
    "    deteriorateSwap.append(maxCycle - i)\n",
    "deteriorate = pd.DataFrame(deteriorateSwap)\n"
   ]
  },
  {
   "cell_type": "code",
   "execution_count": 14,
   "metadata": {},
   "outputs": [],
   "source": [
    "norm_sens = pd.DataFrame(norm_sens)\n",
    "deteriorate = deteriorate.join(norm_sens, lsuffix='0', rsuffix='1')\n",
    "\n",
    "#print(deteriorate.head(5))\n",
    "deteriorate = deteriorate.sample(frac=1)\n",
    "#print(deteriorate.tail())\n",
    "\n",
    "deteriorate.columns = getColumns(deteriorate.shape[1])"
   ]
  },
  {
   "cell_type": "code",
   "execution_count": 15,
   "metadata": {},
   "outputs": [],
   "source": [
    "norm_sens = deteriorate.drop(0, axis=1)\n",
    "norm_sens = norm_sens.to_numpy()\n",
    "deteriorate = deteriorate[0].to_numpy()"
   ]
  },
  {
   "cell_type": "code",
   "execution_count": 16,
   "metadata": {},
   "outputs": [],
   "source": [
    "#split = round((len(deteriorate) / 5) * 4)\n",
    "\n",
    "#detTrain = deteriorate[:split]\n",
    "#detTest = deteriorate[split:]\n",
    "\n",
    "#sensTrain = norm_sens[:split]\n",
    "#sensTest = norm_sens[split:]\n",
    "\n",
    "#columnCount = sensTrain.shape[1]"
   ]
  },
  {
   "cell_type": "code",
   "execution_count": 17,
   "metadata": {},
   "outputs": [],
   "source": [
    "#model = tf.keras.models.Sequential([\n",
    "#    tf.keras.layers.Dense(64, activation='relu'),\n",
    "#    tf.keras.layers.Dense(64, activation='relu'),\n",
    "#    tf.keras.layers.Dense(1)\n",
    "#])\n",
    "\n",
    "model = tf.keras.models.Sequential([\n",
    "    tf.keras.layers.Dense(64, activation='relu'),\n",
    "    tf.keras.layers.Dense(64, activation='relu'),\n",
    "    tf.keras.layers.Dense(1)\n",
    "])\n"
   ]
  },
  {
   "cell_type": "code",
   "execution_count": 18,
   "metadata": {},
   "outputs": [],
   "source": [
    "model.compile(optimizer=tf.keras.optimizers.RMSprop(0.001),\n",
    "              loss='mae', \n",
    "              metrics=['mae', 'mse'])\n",
    "#model.compile(optimizer=tf.keras.optimizers.Adam(learning_rate=0.001, beta_1=0.9, beta_2=0.999, amsgrad=True),\n",
    "#              loss='mse', \n",
    "#              metrics=['mae', 'mse'])"
   ]
  },
  {
   "cell_type": "code",
   "execution_count": null,
   "metadata": {},
   "outputs": [
    {
     "name": "stdout",
     "output_type": "stream",
     "text": [
      "Train on 16504 samples, validate on 4127 samples\n",
      "Epoch 1/1000\n",
      "16504/16504 [==============================] - 1s 73us/sample - loss: 27.3129 - mae: 27.3129 - mse: 1639.8159 - val_loss: 29.2826 - val_mae: 29.2826 - val_mse: 1842.2314\n",
      "Epoch 2/1000\n",
      "16504/16504 [==============================] - 1s 78us/sample - loss: 27.2575 - mae: 27.2575 - mse: 1633.4945 - val_loss: 29.4230 - val_mae: 29.4230 - val_mse: 1869.0204\n",
      "Epoch 3/1000\n",
      "16504/16504 [==============================] - 1s 88us/sample - loss: 27.2966 - mae: 27.2966 - mse: 1640.0717 - val_loss: 28.9688 - val_mae: 28.9688 - val_mse: 1782.2389\n",
      "Epoch 4/1000\n",
      "16504/16504 [==============================] - 1s 77us/sample - loss: 27.3144 - mae: 27.3144 - mse: 1640.3357 - val_loss: 29.1621 - val_mae: 29.1621 - val_mse: 1784.6571\n",
      "Epoch 5/1000\n",
      "16504/16504 [==============================] - 1s 85us/sample - loss: 27.3052 - mae: 27.3052 - mse: 1639.3862 - val_loss: 29.1229 - val_mae: 29.1229 - val_mse: 1787.4656\n",
      "Epoch 6/1000\n",
      "16504/16504 [==============================] - 1s 67us/sample - loss: 27.2842 - mae: 27.2842 - mse: 1633.2129 - val_loss: 29.0902 - val_mae: 29.0902 - val_mse: 1779.7313\n",
      "Epoch 7/1000\n",
      "16504/16504 [==============================] - 1s 70us/sample - loss: 27.3047 - mae: 27.3047 - mse: 1640.2736 - val_loss: 29.2158 - val_mae: 29.2158 - val_mse: 1846.2863\n",
      "Epoch 8/1000\n",
      "16504/16504 [==============================] - 1s 69us/sample - loss: 27.3078 - mae: 27.3078 - mse: 1639.7368 - val_loss: 29.1207 - val_mae: 29.1207 - val_mse: 1846.3721\n",
      "Epoch 9/1000\n",
      "16504/16504 [==============================] - 1s 74us/sample - loss: 27.3084 - mae: 27.3083 - mse: 1637.6870 - val_loss: 29.1315 - val_mae: 29.1315 - val_mse: 1810.7716\n",
      "Epoch 10/1000\n",
      "16504/16504 [==============================] - 1s 73us/sample - loss: 27.2628 - mae: 27.2628 - mse: 1636.7271 - val_loss: 29.1521 - val_mae: 29.1521 - val_mse: 1824.2965\n",
      "Epoch 11/1000\n",
      "16504/16504 [==============================] - 1s 73us/sample - loss: 27.2632 - mae: 27.2632 - mse: 1631.9221 - val_loss: 29.0639 - val_mae: 29.0639 - val_mse: 1825.6361\n",
      "Epoch 12/1000\n",
      "16504/16504 [==============================] - 1s 75us/sample - loss: 27.2918 - mae: 27.2917 - mse: 1634.4933 - val_loss: 29.0428 - val_mae: 29.0428 - val_mse: 1798.1176\n",
      "Epoch 13/1000\n",
      "16504/16504 [==============================] - 1s 75us/sample - loss: 27.2534 - mae: 27.2534 - mse: 1638.9474 - val_loss: 29.1755 - val_mae: 29.1755 - val_mse: 1790.6941\n",
      "Epoch 14/1000\n",
      "16504/16504 [==============================] - 1s 69us/sample - loss: 27.3020 - mae: 27.3021 - mse: 1641.0408 - val_loss: 29.1739 - val_mae: 29.1739 - val_mse: 1782.6411\n",
      "Epoch 15/1000\n",
      "16504/16504 [==============================] - 1s 74us/sample - loss: 27.2880 - mae: 27.2880 - mse: 1636.3661 - val_loss: 29.3403 - val_mae: 29.3403 - val_mse: 1838.8448\n",
      "Epoch 16/1000\n",
      "16504/16504 [==============================] - 1s 73us/sample - loss: 27.2725 - mae: 27.2725 - mse: 1634.0845 - val_loss: 29.3720 - val_mae: 29.3720 - val_mse: 1783.6230\n",
      "Epoch 17/1000\n",
      "16504/16504 [==============================] - 1s 75us/sample - loss: 27.2612 - mae: 27.2612 - mse: 1630.7631 - val_loss: 29.6473 - val_mae: 29.6473 - val_mse: 1926.3337\n",
      "Epoch 18/1000\n",
      "16504/16504 [==============================] - 1s 75us/sample - loss: 27.2817 - mae: 27.2817 - mse: 1638.8169 - val_loss: 29.1304 - val_mae: 29.1304 - val_mse: 1786.5503\n",
      "Epoch 19/1000\n",
      "11392/16504 [===================>..........] - ETA: 0s - loss: 27.3521 - mae: 27.3521 - mse: 1642.3608"
     ]
    }
   ],
   "source": [
    "model.fit(norm_sens, deteriorate, batch_size=64, epochs=10000, validation_split = 0.2, verbose=1)"
   ]
  },
  {
   "cell_type": "code",
   "execution_count": null,
   "metadata": {},
   "outputs": [],
   "source": []
  },
  {
   "cell_type": "code",
   "execution_count": null,
   "metadata": {},
   "outputs": [],
   "source": []
  }
 ],
 "metadata": {
  "kernelspec": {
   "display_name": "Python 3",
   "language": "python",
   "name": "python3"
  },
  "language_info": {
   "codemirror_mode": {
    "name": "ipython",
    "version": 3
   },
   "file_extension": ".py",
   "mimetype": "text/x-python",
   "name": "python",
   "nbconvert_exporter": "python",
   "pygments_lexer": "ipython3",
   "version": "3.7.5"
  }
 },
 "nbformat": 4,
 "nbformat_minor": 4
}
