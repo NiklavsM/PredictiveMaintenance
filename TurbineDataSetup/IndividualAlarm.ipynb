{
 "cells": [
  {
   "cell_type": "code",
   "execution_count": 1,
   "metadata": {},
   "outputs": [],
   "source": [
    "import pandas as pd\n",
    "import numpy as np\n",
    "\n",
    "csv = pd.read_csv(\"D:/WindData/POD_Request_3541/POD_Request_3541/Alarm-log/AlarmSorted.csv\",\n",
    "                  skiprows=[i for i in range(1, 6175)])\n",
    "\n",
    "csv = csv[['TimeOn','TimeOff', 'EventIndex', 'EventDescription', 'Duration']]\n",
    "\n",
    "alarms = [999105.00]\n",
    "\n",
    "\n",
    "alarm = csv[csv['EventIndex'].isin(alarms)]\n",
    "\n",
    "#print(alarm.to_string())\n",
    "\n",
    "i = 0\n"
   ]
  },
  {
   "cell_type": "code",
   "execution_count": 2,
   "metadata": {},
   "outputs": [
    {
     "name": "stdout",
     "output_type": "stream",
     "text": [
      "['18/02/2017 07:12', '23/02/2017 16:08', 999105.0, 'Operational Control - Suspended - Forced outage', 464126.0]\n",
      "                  On               Off     Index                                      Description   Duration\n",
      "0   18/02/2017 07:12  23/02/2017 16:08  999105.0  Operational Control - Suspended - Forced outage   464126.0\n",
      "1   08/03/2017 16:30  17/03/2017 15:42  999105.0                  Suspended - Forced outage - LDT   774717.0\n",
      "2   17/03/2017 18:51  23/03/2017 15:30  999105.0                  Suspended - Forced outage - LDT   506300.0\n",
      "3   24/03/2017 09:10  24/03/2017 15:20  999105.0  Operational Control - Suspended - Forced outage    22200.0\n",
      "4   24/03/2017 22:30  25/03/2017 00:45  999105.0  Operational Control - Suspended - Forced outage     8044.0\n",
      "5   16/11/2017 17:43  18/12/2017 00:00  999105.0                  Suspended - Forced outage - LDT  2701020.0\n",
      "6   21/05/2018 06:16  21/05/2018 18:04  999105.0                  Suspended - Forced outage - LDT    42464.0\n",
      "7   22/05/2018 06:17  22/05/2018 18:13  999105.0                  Suspended - Forced outage - LDT    42913.0\n",
      "8   23/05/2018 06:16  23/05/2018 18:12  999105.0                  Suspended - Forced outage - LDT    42970.0\n",
      "9   24/05/2018 06:21  24/05/2018 18:11  999105.0                  Suspended - Forced outage - LDT    42609.0\n",
      "10  25/05/2018 06:06  25/05/2018 14:08  999105.0                  Suspended - Forced outage - LDT    28924.0\n",
      "11  28/05/2018 06:07  28/05/2018 18:16  999105.0                  Suspended - Forced outage - LDT    43739.0\n",
      "12  29/05/2018 06:12  29/05/2018 17:48  999105.0                  Suspended - Forced outage - LDT    41749.0\n",
      "13  30/05/2018 06:24  30/05/2018 18:30  999105.0                  Suspended - Forced outage - LDT    43561.0\n",
      "14  31/05/2018 06:16  31/05/2018 17:26  999105.0                  Suspended - Forced outage - LDT    40142.0\n",
      "15  01/06/2018 06:18  01/06/2018 14:05  999105.0                  Suspended - Forced outage - LDT    28000.0\n",
      "16  04/06/2018 06:22  04/06/2018 17:08  999105.0                  Suspended - Forced outage - LDT    38794.0\n"
     ]
    }
   ],
   "source": [
    "alarmList = alarm.values.tolist()\n",
    "\n",
    "x = alarmList.pop(0)\n",
    "\n",
    "alarmsComb = []\n",
    "\n",
    "print(x)\n",
    "for row in alarmList:\n",
    "    if x[1]==row[0]:\n",
    "        x[1] = row[1]\n",
    "        x[4] = x[4] + row[4]\n",
    "    else:\n",
    "        alarmsComb.append(x)\n",
    "        x = row\n",
    "        \n",
    "alarmsComb.append(x)      \n",
    "alarmsComb = pd.DataFrame(alarmsComb, columns=['On','Off','Index','Description','Duration'])\n",
    "print(alarmsComb.to_string())"
   ]
  },
  {
   "cell_type": "code",
   "execution_count": 3,
   "metadata": {},
   "outputs": [],
   "source": [
    "alarmsComb.to_csv(\"./ForcedOut.csv\")"
   ]
  },
  {
   "cell_type": "code",
   "execution_count": 4,
   "metadata": {},
   "outputs": [
    {
     "name": "stdout",
     "output_type": "stream",
     "text": [
      "                 On               Off     Index  \\\n",
      "0  18/02/2017 07:12  23/02/2017 16:08  999105.0   \n",
      "1  08/03/2017 16:30  17/03/2017 15:42  999105.0   \n",
      "2  17/03/2017 18:51  23/03/2017 15:30  999105.0   \n",
      "3  24/03/2017 09:10  24/03/2017 15:20  999105.0   \n",
      "4  24/03/2017 22:30  25/03/2017 00:45  999105.0   \n",
      "5  16/11/2017 17:43  18/12/2017 00:00  999105.0   \n",
      "6  21/05/2018 06:16  21/05/2018 18:04  999105.0   \n",
      "7  22/05/2018 06:17  22/05/2018 18:13  999105.0   \n",
      "8  23/05/2018 06:16  23/05/2018 18:12  999105.0   \n",
      "9  24/05/2018 06:21  24/05/2018 18:11  999105.0   \n",
      "\n",
      "                                       Description   Duration  \n",
      "0  Operational Control - Suspended - Forced outage   464126.0  \n",
      "1                  Suspended - Forced outage - LDT   774717.0  \n",
      "2                  Suspended - Forced outage - LDT   506300.0  \n",
      "3  Operational Control - Suspended - Forced outage    22200.0  \n",
      "4  Operational Control - Suspended - Forced outage     8044.0  \n",
      "5                  Suspended - Forced outage - LDT  2701020.0  \n",
      "6                  Suspended - Forced outage - LDT    42464.0  \n",
      "7                  Suspended - Forced outage - LDT    42913.0  \n",
      "8                  Suspended - Forced outage - LDT    42970.0  \n",
      "9                  Suspended - Forced outage - LDT    42609.0  \n"
     ]
    }
   ],
   "source": [
    "print(alarmsComb.head(10))"
   ]
  },
  {
   "cell_type": "code",
   "execution_count": null,
   "metadata": {},
   "outputs": [],
   "source": []
  }
 ],
 "metadata": {
  "kernelspec": {
   "display_name": "Python 3",
   "language": "python",
   "name": "python3"
  },
  "language_info": {
   "codemirror_mode": {
    "name": "ipython",
    "version": 3
   },
   "file_extension": ".py",
   "mimetype": "text/x-python",
   "name": "python",
   "nbconvert_exporter": "python",
   "pygments_lexer": "ipython3",
   "version": "3.7.4"
  }
 },
 "nbformat": 4,
 "nbformat_minor": 4
}
