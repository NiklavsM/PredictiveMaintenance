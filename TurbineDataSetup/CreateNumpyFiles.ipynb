{
 "cells": [
  {
   "cell_type": "code",
   "execution_count": 1,
   "metadata": {},
   "outputs": [],
   "source": [
    "import pandas as pd\n",
    "import numpy as np\n",
    "import glob,os\n",
    "\n",
    "\n",
    "dir = \"D:/WindData/POD_Request_3541/Project/Copies/processed/trimmed\"\n",
    "\n",
    "os.chdir(dir)\n",
    "\n",
    "if not os.path.exists('final'):\n",
    "    os.makedirs('final')\n",
    "if not os.path.exists('final/data'):\n",
    "        os.makedirs('final/data')\n"
   ]
  },
  {
   "cell_type": "code",
   "execution_count": 2,
   "metadata": {},
   "outputs": [
    {
     "name": "stdout",
     "output_type": "stream",
     "text": [
      "['labels\\\\0.csv', 'labels\\\\1.csv', 'labels\\\\2.csv', 'labels\\\\3.csv', 'labels\\\\4.csv']\n"
     ]
    }
   ],
   "source": [
    "labels = glob.glob(\"labels/*.csv\")\n",
    "dataSets = glob.glob(\"data/*.csv\")\n",
    "print(labels)\n",
    "\n"
   ]
  },
  {
   "cell_type": "code",
   "execution_count": 3,
   "metadata": {},
   "outputs": [],
   "source": [
    "def pullBatch(numBatches, batchSize, depth, labelFile, dataFile):\n",
    "    dataList = []\n",
    "    avgList = []\n",
    "    skip = numBatches * batchSize * depth\n",
    "    for i in range(batchSize):\n",
    "        frameData = pd.read_csv(dataFile, header=None, skiprows=skip, nrows=depth)\n",
    "        if len(frameData) < depth:\n",
    "            return [], 0\n",
    "        else:\n",
    "            avgData = pd.read_csv(labelFile, header=None, skiprows=skip, nrows=depth)\n",
    "            avg = avgData[0].mean()\n",
    "            avgList.append(avg)\n",
    "            dataList.append(frameData.values.tolist())\n",
    "            skip += depth\n",
    "    return dataList, avgList\n",
    "        \n",
    "        \n",
    "    \n",
    "    "
   ]
  },
  {
   "cell_type": "code",
   "execution_count": null,
   "metadata": {},
   "outputs": [],
   "source": []
  },
  {
   "cell_type": "code",
   "execution_count": null,
   "metadata": {},
   "outputs": [],
   "source": [
    "batchSize = 32\n",
    "depth = 60\n",
    "labelList = []\n",
    "batchCount = 0\n",
    "\n",
    "for label, data in zip(labels, dataSets):\n",
    "    numBatches = 0\n",
    "    batch, avgList = pullBatch(numBatches, batchSize, depth, label, data)\n",
    "    while not len(batch)==0:\n",
    "        npArray = np.array(batch)\n",
    "        labelList.append(avgList)\n",
    "        np.save(\"final/data/\" + str(batchCount) + \".npy\", npArray)\n",
    "        numBatches+=1\n",
    "        batchCount+=1\n",
    "        batch, avgList = pullBatch(numBatches, batchSize, depth, label, data)\n",
    "    break\n",
    "    \n",
    "    \n",
    "    \n",
    "    \n",
    "    \n",
    "    \n",
    "    \n",
    "    \n",
    "    \n",
    "    "
   ]
  },
  {
   "cell_type": "code",
   "execution_count": null,
   "metadata": {},
   "outputs": [],
   "source": [
    "frame = pd.DataFrame(labelList, )"
   ]
  }
 ],
 "metadata": {
  "kernelspec": {
   "display_name": "Python 3",
   "language": "python",
   "name": "python3"
  },
  "language_info": {
   "codemirror_mode": {
    "name": "ipython",
    "version": 3
   },
   "file_extension": ".py",
   "mimetype": "text/x-python",
   "name": "python",
   "nbconvert_exporter": "python",
   "pygments_lexer": "ipython3",
   "version": "3.7.5"
  }
 },
 "nbformat": 4,
 "nbformat_minor": 4
}
