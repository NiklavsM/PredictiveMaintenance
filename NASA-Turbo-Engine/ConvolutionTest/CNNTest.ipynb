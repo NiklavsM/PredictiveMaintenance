{
 "cells": [
  {
   "cell_type": "code",
   "execution_count": 1,
   "metadata": {},
   "outputs": [],
   "source": [
    "import tensorflow as tf\n",
    "from tensorflow import keras\n",
    "#print(tf.keras.__version__)\n",
    "#print(tf.__version__)\n",
    "\n",
    "import numpy as np\n",
    "import pandas as pd\n",
    "import matplotlib.pyplot as plt\n",
    "import seaborn as sns\n",
    "import math as mt\n",
    "import random as rng\n",
    "\n",
    "from sklearn import preprocessing\n",
    "\n",
    "def getColumns(size):\n",
    "    columns = []\n",
    "    for i in range(size):\n",
    "        columns.append(i)\n",
    "    return columns\n",
    "\n",
    "directory = \"./CMAPSSData/train_FD001.txt\"\n",
    "turbo = pd.read_csv(directory, header=None, sep=' ')\n",
    "turbo = turbo.drop([26, 27], axis=1)\n",
    "\n",
    "#for i in turbo.columns:\n",
    "#    column = turbo[i]\n",
    "#    print(i)\n",
    "#    print(column.describe())\n",
    "    \n",
    "#print(turbo.values)\n",
    "\n",
    "# Drop the input parameters to get just the sensors\n",
    "turboSens = turbo.drop([0,1,4], axis=1)\n",
    "turboSens.columns = getColumns(turboSens.shape[1])\n",
    "\n",
    "# Get the cycles and useful sensors. \n",
    "turboUsefulSens = turboSens.drop([0, 4, 9, 15, 17, 18], axis=1)\n",
    "\n",
    "min_max_scaler = preprocessing.MinMaxScaler()\n",
    "norm_sens = min_max_scaler.fit_transform(turboUsefulSens)\n",
    "\n",
    "turboCycles = turbo[1]\n",
    "#print(turboCycles)\n",
    "\n",
    "deteriorate = []\n",
    "maxCycle = float(turboCycles.max())\n",
    "\n",
    "\n",
    "currentCount = maxCycle\n",
    "for i in range(turbo.shape[0] - 1, -1, -1):\n",
    "    currentRow = turboCycles.loc[i]\n",
    "    deteriorate.insert(0, currentCount)\n",
    "    if currentRow == 1:\n",
    "        currentCount = maxCycle\n",
    "    else:\n",
    "        currentCount -= 1\n",
    "\n",
    "        \n",
    "deteriorate = pd.DataFrame(deteriorate)\n",
    "\n",
    "deteriorateSwap = []\n",
    "for i in deteriorate[0]:\n",
    "    deteriorateSwap.append(maxCycle - i)\n",
    "deteriorate = pd.DataFrame(deteriorateSwap)\n",
    "\n",
    "\n",
    "norm_sens = pd.DataFrame(norm_sens)\n",
    "deteriorate = deteriorate.join(norm_sens, lsuffix='0', rsuffix='1')\n",
    "deteriorate.columns = getColumns(deteriorate.shape[1])\n",
    "\n"
   ]
  },
  {
   "cell_type": "code",
   "execution_count": 2,
   "metadata": {},
   "outputs": [
    {
     "name": "stdout",
     "output_type": "stream",
     "text": [
      "20631\n",
      "20170\n"
     ]
    }
   ],
   "source": [
    "array = deteriorate.to_numpy()\n",
    "\n",
    "arrayCopy = array.tolist()\n",
    "\n",
    "simulations = []\n",
    "count = len(array)\n",
    "print(count)\n",
    "\n",
    "convSize = 10\n",
    "\n",
    "while(count > 0):\n",
    "    cycles = []\n",
    "    element = [-1,-1]\n",
    "    while(element[0]!=0):\n",
    "        element = arrayCopy.pop(0)\n",
    "        cycles.append(element)\n",
    "        count-=1\n",
    "    simulations.append(cycles)\n",
    "    \n",
    "for sim in simulations:\n",
    "    lenth = len(sim)\n",
    "    remainder = lenth%convSize\n",
    "    for i in range(remainder):\n",
    "        sim.pop(0)\n",
    "    \n",
    "simsRecomb = []\n",
    "for sim in simulations:\n",
    "    for i in sim:\n",
    "        simsRecomb.append(i)\n",
    "\n",
    "print(len(simsRecomb))\n",
    "    "
   ]
  },
  {
   "cell_type": "code",
   "execution_count": 3,
   "metadata": {},
   "outputs": [],
   "source": [
    "simsInTen = []\n",
    "simsCycleNums = []\n",
    "\n",
    "count = 0\n",
    "length = len(simsRecomb)\n",
    "while(count < length):\n",
    "    ten = []\n",
    "    total = 0\n",
    "    for i in range(convSize):\n",
    "        element = simsRecomb.pop(0)\n",
    "        total+= element[0]\n",
    "        element.pop(0)\n",
    "        ten.append(element)\n",
    "    simsInTen.append(ten)\n",
    "    count+=convSize\n",
    "    total /= convSize\n",
    "    simsCycleNums.append(total)\n",
    "    \n"
   ]
  },
  {
   "cell_type": "code",
   "execution_count": 4,
   "metadata": {},
   "outputs": [
    {
     "name": "stdout",
     "output_type": "stream",
     "text": [
      "2017\n",
      "2017\n"
     ]
    }
   ],
   "source": [
    "simsReorder = []\n",
    "simsCycleReorder = []\n",
    "\n",
    "length = len(simsInTen)\n",
    "for i in range(length):\n",
    "    index = rng.randint(0, len(simsInTen)-1)\n",
    "    simsReorder.append(simsInTen.pop(index))\n",
    "    simsCycleReorder.append(simsCycleNums.pop(index))\n",
    "\n"
   ]
  },
  {
   "cell_type": "code",
   "execution_count": null,
   "metadata": {},
   "outputs": [],
   "source": []
  }
 ],
 "metadata": {
  "kernelspec": {
   "display_name": "Python 3",
   "language": "python",
   "name": "python3"
  },
  "language_info": {
   "codemirror_mode": {
    "name": "ipython",
    "version": 3
   },
   "file_extension": ".py",
   "mimetype": "text/x-python",
   "name": "python",
   "nbconvert_exporter": "python",
   "pygments_lexer": "ipython3",
   "version": "3.7.5"
  }
 },
 "nbformat": 4,
 "nbformat_minor": 4
}
